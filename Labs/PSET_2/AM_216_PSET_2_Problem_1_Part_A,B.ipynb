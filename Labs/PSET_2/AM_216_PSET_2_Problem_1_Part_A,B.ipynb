{
 "cells": [
  {
   "cell_type": "markdown",
   "metadata": {},
   "source": [
    "# Part 1: Training the SVM, import"
   ]
  },
  {
   "cell_type": "code",
   "execution_count": 1,
   "metadata": {
    "collapsed": true
   },
   "outputs": [],
   "source": [
    "from sklearn import linear_model\n",
    "import numpy as np\n",
    "import pandas as pd\n",
    "import matplotlib\n",
    "import matplotlib.pyplot as plt\n",
    "\n",
    "\n",
    "import scipy.optimize as spopt\n",
    "import sklearn"
   ]
  },
  {
   "cell_type": "code",
   "execution_count": null,
   "metadata": {
    "collapsed": true
   },
   "outputs": [],
   "source": []
  },
  {
   "cell_type": "code",
   "execution_count": 2,
   "metadata": {
    "collapsed": true
   },
   "outputs": [],
   "source": [
    "import zipfile\n",
    "with zipfile.ZipFile(\"PS2-a-highT.zip\",\"r\") as zip_ref1:\n",
    "    zip_ref1.extractall(\"PS2-a-highT\")\n",
    "with zipfile.ZipFile(\"PS2-a-lowT.zip\",\"r\") as zip_ref2:\n",
    "    zip_ref2.extractall(\"PS2-a-lowT\")\n",
    "with zipfile.ZipFile(\"PS2-d-highT.zip\",\"r\") as zip_ref3:\n",
    "    zip_ref3.extractall(\"PS2-d-highT\")\n",
    "with zipfile.ZipFile(\"PS2-d-lowT.zip\",\"r\") as zip_ref4:\n",
    "    zip_ref4.extractall(\"PS2-d-lowT\")\n"
   ]
  },
  {
   "cell_type": "code",
   "execution_count": 3,
   "metadata": {},
   "outputs": [
    {
     "name": "stdout",
     "output_type": "stream",
     "text": [
      "64\n"
     ]
    }
   ],
   "source": [
    "import zipfile\n",
    "high_t = []\n",
    "for i in range(500):\n",
    "    high_t.append(np.loadtxt('./PS2-a-highT/PS2-a-highT/'+str(i).zfill(3), delimiter=',')) ## Change to your local directory!\n",
    "print(len(high_t[0]))"
   ]
  },
  {
   "cell_type": "code",
   "execution_count": 4,
   "metadata": {
    "collapsed": true
   },
   "outputs": [],
   "source": [
    "import zipfile\n",
    "low_t = []\n",
    "for i in range(500):\n",
    "    low_t.append(np.loadtxt('./PS2-a-lowT/PS2-a-lowT/'+str(i).zfill(3), delimiter=',')) ## Change to your local directory!"
   ]
  },
  {
   "cell_type": "code",
   "execution_count": 5,
   "metadata": {
    "collapsed": true
   },
   "outputs": [],
   "source": [
    "data_img = np.concatenate((high_t,low_t))\n",
    "data_img = data_img.reshape((-1, 64*64))\n",
    "data_label = np.concatenate((np.ones(len(high_t)), np.zeros(len(low_t))))"
   ]
  },
  {
   "cell_type": "code",
   "execution_count": 6,
   "metadata": {},
   "outputs": [
    {
     "data": {
      "text/plain": [
       "4096"
      ]
     },
     "execution_count": 6,
     "metadata": {},
     "output_type": "execute_result"
    }
   ],
   "source": [
    "len(data_img[0])"
   ]
  },
  {
   "cell_type": "code",
   "execution_count": 120,
   "metadata": {
    "collapsed": true
   },
   "outputs": [],
   "source": [
    "# Don't Set Random State to 0\n",
    "from sklearn.model_selection import train_test_split\n",
    "train_img, test_img, train_lbl, test_lbl = train_test_split(\n",
    "    data_img, data_label, test_size= 0.2, random_state = 10)"
   ]
  },
  {
   "cell_type": "code",
   "execution_count": 8,
   "metadata": {
    "collapsed": true
   },
   "outputs": [],
   "source": [
    "# Data_Label is a 1000 number representing Y Values: 0 - 499 are 1's (High T), 500 - 999 are 0's (Low T)"
   ]
  },
  {
   "cell_type": "code",
   "execution_count": 152,
   "metadata": {
    "collapsed": true
   },
   "outputs": [],
   "source": [
    "# Below are some of the Gammas and C-values which I tried\n",
    "kernel_list = ['linear','rbf']\n",
    "gamma_list=[1,1/64,1/1024,1/2048,1/4096]\n",
    "C_list=[0.25,0.5,1,4,10,20,100,1000,1000]"
   ]
  },
  {
   "cell_type": "code",
   "execution_count": 153,
   "metadata": {},
   "outputs": [
    {
     "name": "stdout",
     "output_type": "stream",
     "text": [
      "0.97\n"
     ]
    }
   ],
   "source": [
    "from sklearn.svm import SVC\n",
    "#clf = SVC(gamma=1/2048)\n",
    "clf = SVC(C=1000,kernel='rbf',gamma=1/2048,cache_size=8000,probability=False)\n",
    "clf.fit(train_img, train_lbl)\n",
    "score = clf.score(test_img, test_lbl)\n",
    "print(score)"
   ]
  },
  {
   "cell_type": "code",
   "execution_count": 129,
   "metadata": {},
   "outputs": [
    {
     "name": "stdout",
     "output_type": "stream",
     "text": [
      "0.835\n"
     ]
    }
   ],
   "source": [
    "from sklearn.neural_network import MLPClassifier\n",
    "clf1 = MLPClassifier(solver='lbfgs', alpha=1e-5, hidden_layer_sizes=(1000,100), random_state=1)\n",
    "clf1.fit(train_img, train_lbl)\n",
    "score = clf1.score(test_img, test_lbl)\n",
    "print(score)"
   ]
  },
  {
   "cell_type": "code",
   "execution_count": 132,
   "metadata": {},
   "outputs": [
    {
     "name": "stderr",
     "output_type": "stream",
     "text": [
      "/Users/vnkn/anaconda3/lib/python3.6/site-packages/ipykernel_launcher.py:4: DeprecationWarning: \n",
      ".ix is deprecated. Please use\n",
      ".loc for label based indexing or\n",
      ".iloc for positional indexing\n",
      "\n",
      "See the documentation here:\n",
      "http://pandas.pydata.org/pandas-docs/stable/indexing.html#ix-indexer-is-deprecated\n",
      "  after removing the cwd from sys.path.\n"
     ]
    }
   ],
   "source": [
    "test_set_1 = pd.read_csv('hw2p1b_testset.csv', header=None)\n",
    "test_t_2 = []\n",
    "for row in range(len(test_set_1)):\n",
    "    test_t_2.append(test_set_1.ix[row])\n",
    "preds = clf1.predict(test_t_2)\n",
    "predictions = pd.DataFrame(columns = ['Expected'])\n",
    "for i in range(len(preds)):\n",
    "    predictions = predictions.append({'Expected': preds[i]}, ignore_index=True)"
   ]
  },
  {
   "cell_type": "code",
   "execution_count": 133,
   "metadata": {
    "collapsed": true
   },
   "outputs": [],
   "source": [
    "predictions.to_csv('Preds2.csv')"
   ]
  },
  {
   "cell_type": "code",
   "execution_count": 139,
   "metadata": {},
   "outputs": [
    {
     "name": "stdout",
     "output_type": "stream",
     "text": [
      "200\n",
      "4096\n"
     ]
    },
    {
     "name": "stderr",
     "output_type": "stream",
     "text": [
      "/Users/vnkn/anaconda3/lib/python3.6/site-packages/ipykernel_launcher.py:5: DeprecationWarning: \n",
      ".ix is deprecated. Please use\n",
      ".loc for label based indexing or\n",
      ".iloc for positional indexing\n",
      "\n",
      "See the documentation here:\n",
      "http://pandas.pydata.org/pandas-docs/stable/indexing.html#ix-indexer-is-deprecated\n",
      "  \"\"\"\n"
     ]
    }
   ],
   "source": [
    "test_set = pd.read_csv('hw2p1a_testset.csv', header=None)\n",
    "print(len(test_set))\n",
    "test_t = []\n",
    "for row in range(len(test_set)):\n",
    "    test_t.append(test_set.ix[row])\n",
    "print(len(test_t[0]))"
   ]
  },
  {
   "cell_type": "code",
   "execution_count": 144,
   "metadata": {
    "collapsed": true
   },
   "outputs": [],
   "source": [
    "preds = clf.predict(test_t)\n",
    "predictions = pd.DataFrame(columns = ['Expected'])\n",
    "for i in range(len(preds)):\n",
    "    predictions = predictions.append({'Expected': preds[i]}, ignore_index=True)"
   ]
  },
  {
   "cell_type": "code",
   "execution_count": 145,
   "metadata": {
    "collapsed": true
   },
   "outputs": [],
   "source": [
    "predictions.to_csv('predictions.csv')"
   ]
  },
  {
   "cell_type": "code",
   "execution_count": 13,
   "metadata": {
    "collapsed": true
   },
   "outputs": [],
   "source": [
    "#import sys\n",
    "#!{sys.executable} -m pip install Keras"
   ]
  },
  {
   "cell_type": "code",
   "execution_count": 41,
   "metadata": {
    "collapsed": true
   },
   "outputs": [],
   "source": [
    "from keras.models import Sequential\n",
    "from keras.layers import Dense, Activation,Conv2D,Flatten"
   ]
  },
  {
   "cell_type": "code",
   "execution_count": 15,
   "metadata": {
    "collapsed": true
   },
   "outputs": [],
   "source": [
    "# Part 2: Using a Convolutional Neural Network for Classification on this Dataset"
   ]
  },
  {
   "cell_type": "code",
   "execution_count": 92,
   "metadata": {
    "collapsed": true
   },
   "outputs": [],
   "source": [
    "from keras.utils import np_utils\n",
    "train_img = train_img.reshape(800,64,64,1)\n",
    "test_img = test_img.reshape(200,64,64,1)\n",
    "train_lbl = np_utils.to_categorical(train_lbl)\n",
    "test_lbl = np_utils.to_categorical(test_lbl)"
   ]
  },
  {
   "cell_type": "code",
   "execution_count": 79,
   "metadata": {},
   "outputs": [
    {
     "data": {
      "text/plain": [
       "<keras.engine.sequential.Sequential at 0x1a2b520e10>"
      ]
     },
     "execution_count": 79,
     "metadata": {},
     "output_type": "execute_result"
    }
   ],
   "source": [
    "model"
   ]
  },
  {
   "cell_type": "raw",
   "metadata": {},
   "source": [
    "import keras\n",
    "model1 = Sequential()\n",
    "model1.add(Conv2D(64, kernel_size = 3, input_shape=(64,64,1)))\n",
    "model1.add(Flatten())\n",
    "model1.add(Dense(2))\n",
    "model1.compile(optimizer=opt,\n",
    "              loss='categorical_crossentropy',metrics = ['accuracy'])\n",
    "\n",
    "model1.fit(train_img, train_lbl)\n"
   ]
  },
  {
   "cell_type": "code",
   "execution_count": 117,
   "metadata": {},
   "outputs": [
    {
     "name": "stdout",
     "output_type": "stream",
     "text": [
      "200/200 [==============================] - 2s 11ms/step\n",
      "[4.341561975479126, 0.53]\n"
     ]
    }
   ],
   "source": [
    "score = model1.evaluate(test_img, test_lbl)\n",
    "print(score)"
   ]
  },
  {
   "cell_type": "code",
   "execution_count": 102,
   "metadata": {},
   "outputs": [
    {
     "data": {
      "text/plain": [
       "800"
      ]
     },
     "execution_count": 102,
     "metadata": {},
     "output_type": "execute_result"
    }
   ],
   "source": [
    "len(train_lbl)"
   ]
  },
  {
   "cell_type": "code",
   "execution_count": 104,
   "metadata": {},
   "outputs": [
    {
     "name": "stdout",
     "output_type": "stream",
     "text": [
      "200/200 [==============================] - 2s 9ms/step\n",
      "4.558732070922852\n"
     ]
    }
   ],
   "source": [
    "score = model1.evaluate(test_img, test_lbl)\n",
    "print(score)"
   ]
  },
  {
   "cell_type": "code",
   "execution_count": 118,
   "metadata": {
    "collapsed": true
   },
   "outputs": [],
   "source": [
    "preds = model1.predict(train_img)"
   ]
  },
  {
   "cell_type": "code",
   "execution_count": 119,
   "metadata": {},
   "outputs": [
    {
     "data": {
      "text/plain": [
       "array([[  2.9857707 ,  -0.48709986],\n",
       "       [  1.6082308 , -13.484621  ],\n",
       "       [ 16.10991   ,  -2.4538271 ],\n",
       "       ...,\n",
       "       [ 18.602486  ,  30.282124  ],\n",
       "       [ 11.156479  ,  -7.1792426 ],\n",
       "       [ -9.368894  ,   0.71480894]], dtype=float32)"
      ]
     },
     "execution_count": 119,
     "metadata": {},
     "output_type": "execute_result"
    }
   ],
   "source": [
    "preds"
   ]
  },
  {
   "cell_type": "code",
   "execution_count": null,
   "metadata": {
    "collapsed": true
   },
   "outputs": [],
   "source": [
    "len(high_t[0])"
   ]
  },
  {
   "cell_type": "code",
   "execution_count": null,
   "metadata": {
    "collapsed": true
   },
   "outputs": [],
   "source": [
    "SVC.get_params(clf)"
   ]
  },
  {
   "cell_type": "code",
   "execution_count": null,
   "metadata": {
    "collapsed": true
   },
   "outputs": [],
   "source": [
    "train_img.shape"
   ]
  },
  {
   "cell_type": "code",
   "execution_count": null,
   "metadata": {
    "collapsed": true
   },
   "outputs": [],
   "source": []
  },
  {
   "cell_type": "code",
   "execution_count": null,
   "metadata": {
    "collapsed": true
   },
   "outputs": [],
   "source": [
    "len(data_label)"
   ]
  },
  {
   "cell_type": "code",
   "execution_count": null,
   "metadata": {
    "collapsed": true
   },
   "outputs": [],
   "source": [
    "fig,ax = plt.subplots(5,10,figsize=(20,10))\n",
    "for i in range(50):\n",
    "    ax[i//10,i%10].matshow(high_t[i],cmap=plt.cm.binary)\n",
    "    ax[i//10,i%10].set_xticks(())\n",
    "    ax[i//10,i%10].set_yticks(())\n",
    "plt.show()"
   ]
  },
  {
   "cell_type": "code",
   "execution_count": null,
   "metadata": {
    "collapsed": true
   },
   "outputs": [],
   "source": [
    "fig,ax = plt.subplots(5,10,figsize=(20,10))\n",
    "for i in range(50):\n",
    "    ax[i//10,i%10].matshow(low_t[i],cmap=plt.cm.binary)\n",
    "    ax[i//10,i%10].set_xticks(())\n",
    "    ax[i//10,i%10].set_yticks(())\n",
    "plt.show()"
   ]
  },
  {
   "cell_type": "code",
   "execution_count": null,
   "metadata": {
    "collapsed": true
   },
   "outputs": [],
   "source": []
  },
  {
   "cell_type": "code",
   "execution_count": null,
   "metadata": {
    "collapsed": true
   },
   "outputs": [],
   "source": [
    "high_t[1]"
   ]
  },
  {
   "cell_type": "code",
   "execution_count": null,
   "metadata": {
    "collapsed": true
   },
   "outputs": [],
   "source": [
    "low_t[:50]"
   ]
  },
  {
   "cell_type": "code",
   "execution_count": null,
   "metadata": {
    "collapsed": true
   },
   "outputs": [],
   "source": []
  }
 ],
 "metadata": {
  "kernelspec": {
   "display_name": "Python 3",
   "language": "python",
   "name": "python3"
  },
  "language_info": {
   "codemirror_mode": {
    "name": "ipython",
    "version": 3
   },
   "file_extension": ".py",
   "mimetype": "text/x-python",
   "name": "python",
   "nbconvert_exporter": "python",
   "pygments_lexer": "ipython3",
   "version": "3.6.3"
  }
 },
 "nbformat": 4,
 "nbformat_minor": 2
}
