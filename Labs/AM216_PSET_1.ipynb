{
 "cells": [
  {
   "cell_type": "code",
   "execution_count": 43,
   "metadata": {
    "collapsed": true
   },
   "outputs": [],
   "source": [
    "import pandas as pd\n",
    "import numpy as np\n",
    "import matplotlib\n",
    "import matplotlib.pyplot as plt\n",
    "from scipy.optimize import curve_fit"
   ]
  },
  {
   "cell_type": "markdown",
   "metadata": {},
   "source": [
    "# Problem 1\n",
    "## In this problem, we are given the format of the data and tasked with deducing the model that was used in generating it."
   ]
  },
  {
   "cell_type": "code",
   "execution_count": 10,
   "metadata": {},
   "outputs": [],
   "source": [
    "df = pd.read_csv(\"Problem1_1.txt\", sep = \" \", header=None)"
   ]
  },
  {
   "cell_type": "code",
   "execution_count": 37,
   "metadata": {},
   "outputs": [],
   "source": [
    "df[:5]\n",
    "df.columns = ['X','Y']"
   ]
  },
  {
   "cell_type": "code",
   "execution_count": null,
   "metadata": {
    "collapsed": true
   },
   "outputs": [],
   "source": [
    "# Visualizing the Data"
   ]
  },
  {
   "cell_type": "code",
   "execution_count": 42,
   "metadata": {},
   "outputs": [
    {
     "data": {
      "image/png": "[encoded data removed]",
      "text/plain": [
       "<matplotlib.figure.Figure at 0x151ce466d8>"
      ]
     },
     "metadata": {},
     "output_type": "display_data"
    }
   ],
   "source": [
    "df.plot(x = 'X',y = 'Y', kind='scatter')\n",
    "plt.show()"
   ]
  },
  {
   "cell_type": "code",
   "execution_count": 16,
   "metadata": {},
   "outputs": [],
   "source": [
    "Xs = df['X']\n",
    "Ys = df['Y']\n",
    "X_array = np.asarray(Xs)\n",
    "Y_array = np.asarray(Ys)"
   ]
  },
  {
   "cell_type": "code",
   "execution_count": 67,
   "metadata": {},
   "outputs": [],
   "source": [
    "# Part 1: Naive Error Fitting\n",
    "from numpy.polynomial import Polynomial\n",
    "#z = Polynomial.fit(X_array, Y_array, 10)\n",
    "z = np.polyfit(X_array, Y_array, 10)\n",
    "#plt.plot(*z.linspace())\n",
    "#plt.show()\n",
    "# This returns a graph that looks very similar to the scatter plot from before."
   ]
  },
  {
   "cell_type": "code",
   "execution_count": 139,
   "metadata": {},
   "outputs": [
    {
     "data": {
      "text/plain": [
       "array([ -5.28174496e-01,   9.29561637e+00,  -5.74651619e+01,\n",
       "         1.85383366e+02,  -3.45717924e+02,   3.50291172e+02,\n",
       "        -1.45312632e+02,  -3.47521535e+01,   4.68633501e+01,\n",
       "        -8.27528326e+00,   2.09198522e-01])"
      ]
     },
     "execution_count": 139,
     "metadata": {},
     "output_type": "execute_result"
    }
   ],
   "source": [
    "z"
   ]
  },
  {
   "cell_type": "code",
   "execution_count": 68,
   "metadata": {
    "scrolled": true
   },
   "outputs": [],
   "source": [
    "y1 = np.polyval(z,Xs);"
   ]
  },
  {
   "cell_type": "code",
   "execution_count": 70,
   "metadata": {},
   "outputs": [],
   "source": [
    "residuals = y1 - Ys"
   ]
  },
  {
   "cell_type": "code",
   "execution_count": null,
   "metadata": {
    "collapsed": true
   },
   "outputs": [],
   "source": [
    "# The Data seems to, rather clearly, follow the shape of a Beta Distribution."
   ]
  },
  {
   "cell_type": "code",
   "execution_count": null,
   "metadata": {
    "collapsed": true
   },
   "outputs": [],
   "source": [
    "for resid in residuals:\n",
    "    "
   ]
  },
  {
   "cell_type": "code",
   "execution_count": 76,
   "metadata": {},
   "outputs": [
    {
     "name": "stdout",
     "output_type": "stream",
     "text": [
      "-0.739325603129\n",
      "-1.4813110738032266e-11\n"
     ]
    }
   ],
   "source": [
    "print(np.median(residuals))\n",
    "print(np.mean(residuals))"
   ]
  },
  {
   "cell_type": "code",
   "execution_count": 75,
   "metadata": {},
   "outputs": [
    {
     "data": {
      "image/png": "[encoded data removed]",
      "text/plain": [
       "<matplotlib.figure.Figure at 0x151d4945c0>"
      ]
     },
     "metadata": {},
     "output_type": "display_data"
    }
   ],
   "source": [
    "plt.hist(residuals)\n",
    "plt.show()"
   ]
  },
  {
   "cell_type": "code",
   "execution_count": 152,
   "metadata": {},
   "outputs": [
    {
     "name": "stdout",
     "output_type": "stream",
     "text": [
      "-3.83739483589\n"
     ]
    }
   ],
   "source": [
    "import scipy.stats\n",
    "print(min(residuals))\n",
    "modifiedresiduals = []\n",
    "for resid in residuals:\n",
    "    resid = resid - min(residuals)\n",
    "    modifiedresiduals.append(resid)\n",
    "\n",
    "#scipy.stats.beta.fit(residuals, np.mean(residuals), np.var(residuals),floc=0., fscale=1.)\n"
   ]
  },
  {
   "cell_type": "code",
   "execution_count": 158,
   "metadata": {},
   "outputs": [],
   "source": [
    "newresiduals = []\n",
    "for resid in modifiedresiduals:\n",
    "    resid = resid/max(modifiedresiduals)\n",
    "    if(resid != 0.0 and resid != 1.0):\n",
    "        newresiduals.append(resid)"
   ]
  },
  {
   "cell_type": "code",
   "execution_count": 156,
   "metadata": {},
   "outputs": [
    {
     "name": "stdout",
     "output_type": "stream",
     "text": [
      "0.0\n"
     ]
    }
   ],
   "source": [
    "print(min(newresiduals))"
   ]
  },
  {
   "cell_type": "code",
   "execution_count": 159,
   "metadata": {},
   "outputs": [
    {
     "data": {
      "text/plain": [
       "(1.4426047880672799, 3.8202820303720881, 0.0, 1.0)"
      ]
     },
     "execution_count": 159,
     "metadata": {},
     "output_type": "execute_result"
    }
   ],
   "source": [
    "scipy.stats.beta.fit(newresiduals, np.mean(newresiduals), np.var(newresiduals),floc=0., fscale=1.)\n"
   ]
  },
  {
   "cell_type": "code",
   "execution_count": 91,
   "metadata": {},
   "outputs": [
    {
     "data": {
      "image/png": "[encoded data removed]",
      "text/plain": [
       "<matplotlib.figure.Figure at 0x1a1e34ee10>"
      ]
     },
     "metadata": {},
     "output_type": "display_data"
    }
   ],
   "source": [
    "# Trying this Problem on Part 2:\n",
    "df_2 = pd.read_csv(\"Problem1_2.txt\", sep = \" \", header=None)\n",
    "df_2.columns = ['X','Y']\n",
    "df_2.plot(x = 'X',y = 'Y', kind='scatter')\n",
    "plt.show()"
   ]
  },
  {
   "cell_type": "code",
   "execution_count": 120,
   "metadata": {
    "collapsed": true
   },
   "outputs": [],
   "source": [
    "from numpy.polynomial import Polynomial\n",
    "Xs2 = df_2['X']\n",
    "Ys2 = df_2['Y']\n",
    "X_array2 = np.asarray(Xs2)\n",
    "Y_array2 = np.asarray(Ys2)\n",
    "#z = Polynomial.fit(X_array, Y_array, 10)\n",
    "z_2 = np.polyfit(X_array2, Y_array2, 10)"
   ]
  },
  {
   "cell_type": "code",
   "execution_count": 161,
   "metadata": {},
   "outputs": [
    {
     "data": {
      "text/plain": [
       "array([ -1.92344925e+00,   2.98116007e+01,  -1.98756594e+02,\n",
       "         7.40209447e+02,  -1.68511357e+03,   2.39806146e+03,\n",
       "        -2.08922919e+03,   1.03101488e+03,  -2.36198366e+02,\n",
       "         1.33405846e+01,   1.48047243e+00])"
      ]
     },
     "execution_count": 161,
     "metadata": {},
     "output_type": "execute_result"
    }
   ],
   "source": [
    "z_2"
   ]
  },
  {
   "cell_type": "code",
   "execution_count": 102,
   "metadata": {
    "collapsed": true
   },
   "outputs": [],
   "source": [
    "X_test_a  = pd.read_csv('hw0p1a_test.csv' , header = None)\n",
    "xtesta = X_test_a[0]\n",
    "y1 = np.polyval(z,xtesta);"
   ]
  },
  {
   "cell_type": "code",
   "execution_count": 122,
   "metadata": {},
   "outputs": [
    {
     "name": "stdout",
     "output_type": "stream",
     "text": [
      "1.55689600777\n",
      "1.60453718125\n",
      "1.61795492657\n",
      "1.67551089498\n",
      "1.45197751845\n",
      "0.757083266396\n",
      "0.289703649288\n",
      "0.207193123333\n",
      "0.0487593868846\n",
      "-0.043053670528\n",
      "-0.107692798362\n",
      "-0.112335379219\n",
      "-0.11223851217\n",
      "0.00785999274802\n",
      "0.109846569211\n",
      "0.133244465666\n",
      "0.243942087924\n",
      "0.296923215892\n",
      "0.363155047022\n",
      "0.436773296286\n",
      "0.730656951944\n",
      "0.951267731004\n",
      "1.34211337879\n",
      "1.76931615705\n",
      "2.60972957268\n",
      "2.61287382663\n",
      "2.79071034674\n",
      "2.80651311897\n",
      "2.90142894417\n",
      "2.90286727358\n",
      "2.90156536107\n",
      "2.61028631458\n",
      "2.52857260332\n",
      "2.50207038491\n",
      "2.35747336137\n",
      "2.34347786089\n",
      "1.06065909923\n",
      "1.04608081633\n",
      "1.03577466103\n",
      "0.863855265865\n",
      "0.625330194591\n",
      "0.296235392326\n",
      "0.210183822065\n",
      "0.19713119504\n",
      "-0.346994261728\n",
      "-0.731389910704\n",
      "-0.795723168756\n",
      "-1.48291779204\n",
      "-1.62618834553\n",
      "-1.89574971064\n",
      "-2.7834966041\n",
      "-2.86184606395\n",
      "-4.84413846822\n",
      "-6.55715458194\n",
      "-6.59215062178\n",
      "-8.58383160018\n",
      "-10.2091373798\n",
      "-12.4618944963\n",
      "-14.4236129361\n",
      "-14.4495934049\n",
      "-15.4223630673\n",
      "-16.2010022309\n",
      "-17.1134115557\n",
      "-18.1131468627\n",
      "-24.7582344943\n",
      "-29.9525342567\n",
      "-51.1150809428\n",
      "-60.4271550953\n",
      "-62.1194918677\n",
      "-64.7552191208\n",
      "-84.205658822\n",
      "-111.545912472\n",
      "-117.105817439\n",
      "-117.197663963\n",
      "-142.240056863\n",
      "-144.968519965\n",
      "-148.525824023\n",
      "-198.318684128\n",
      "-201.41958179\n",
      "-207.385128085\n",
      "-222.49647158\n",
      "-229.89339912\n",
      "-253.940651908\n",
      "-256.662377169\n",
      "-270.127370105\n",
      "-270.350967159\n",
      "-290.630374221\n",
      "-292.82018576\n",
      "-375.049565899\n",
      "-386.855126772\n",
      "-419.02200446\n",
      "-464.137808037\n",
      "-528.200736946\n",
      "-589.833923206\n",
      "-664.550267034\n",
      "-705.958824072\n",
      "-758.478300057\n",
      "-800.566523196\n",
      "-1106.45954476\n",
      "-1156.30021345\n"
     ]
    }
   ],
   "source": [
    "#for k in y1:\n",
    "#    print(k)\n",
    "for k in y2:\n",
    "    print(k)"
   ]
  },
  {
   "cell_type": "code",
   "execution_count": 112,
   "metadata": {},
   "outputs": [
    {
     "data": {
      "text/plain": [
       "100"
      ]
     },
     "execution_count": 112,
     "metadata": {},
     "output_type": "execute_result"
    }
   ],
   "source": [
    "len(y)"
   ]
  },
  {
   "cell_type": "code",
   "execution_count": 97,
   "metadata": {},
   "outputs": [],
   "source": [
    "X_test_b  = pd.read_csv('hw0p1b_test.csv' , header = None)"
   ]
  },
  {
   "cell_type": "code",
   "execution_count": 100,
   "metadata": {},
   "outputs": [],
   "source": [
    "xtestb = X_test_b[0]"
   ]
  },
  {
   "cell_type": "code",
   "execution_count": 121,
   "metadata": {
    "collapsed": true
   },
   "outputs": [],
   "source": [
    "y2 = np.polyval(z_2,xtestb);"
   ]
  },
  {
   "cell_type": "code",
   "execution_count": null,
   "metadata": {
    "collapsed": true
   },
   "outputs": [],
   "source": [
    "# This seems to indicate that our error term has some distribution "
   ]
  },
  {
   "cell_type": "code",
   "execution_count": null,
   "metadata": {
    "collapsed": true
   },
   "outputs": [],
   "source": [
    "# Part 2: Error Fitting with a Train-Test Split"
   ]
  },
  {
   "cell_type": "code",
   "execution_count": 90,
   "metadata": {},
   "outputs": [],
   "source": [
    "X_train = X_array[:500]\n",
    "X_test = X_array[500:]\n",
    "Y_train = Y_array[:500]\n",
    "Y_test = Y_array[500:]\n",
    "z_train = np.polyfit(X_train, Y_train, 10)"
   ]
  },
  {
   "cell_type": "code",
   "execution_count": 32,
   "metadata": {},
   "outputs": [
    {
     "data": {
      "text/plain": [
       "array([ -5.63321771e+03,   4.09565960e+04,  -1.26272842e+05,\n",
       "         2.14995975e+05,  -2.20569115e+05,   1.39535926e+05,\n",
       "        -5.34364487e+04,   1.16146074e+04,  -1.23856468e+03,\n",
       "         4.69582724e+01,  -2.64966846e-01])"
      ]
     },
     "execution_count": 32,
     "metadata": {},
     "output_type": "execute_result"
    }
   ],
   "source": [
    "z_train"
   ]
  },
  {
   "cell_type": "code",
   "execution_count": null,
   "metadata": {
    "collapsed": true
   },
   "outputs": [],
   "source": [
    "df_2.columns = ['X','Y']"
   ]
  },
  {
   "cell_type": "code",
   "execution_count": null,
   "metadata": {
    "collapsed": true
   },
   "outputs": [],
   "source": [
    "# Part 2: A second instance of the same operations as in Part 1"
   ]
  },
  {
   "cell_type": "markdown",
   "metadata": {
    "collapsed": true
   },
   "source": [
    "# Problem 2: \n",
    "\n",
    "## A more complicated version of the same problem, where we are not given as much info as before and need to deduce the functional form of the model.\n",
    "\n",
    "That said, the data still gives the impression that a Polynomial Basis can likely be used to solve this problem."
   ]
  },
  {
   "cell_type": "code",
   "execution_count": 88,
   "metadata": {
    "collapsed": true
   },
   "outputs": [],
   "source": [
    "df_Part_2 = pd.read_csv(\"Problem2.txt\", sep = \" \", header=None)\n",
    "df_Part_2.columns = ['X','Y']\n"
   ]
  },
  {
   "cell_type": "code",
   "execution_count": 126,
   "metadata": {
    "collapsed": true
   },
   "outputs": [],
   "source": [
    "X_test_P2  = pd.read_csv('hw0p2_test.csv' , header = None)\n",
    "Xtest_P2 = X_test_P2[0]"
   ]
  },
  {
   "cell_type": "code",
   "execution_count": 131,
   "metadata": {},
   "outputs": [
    {
     "data": {
      "text/html": [
       "<div>\n",
       "<style>\n",
       "    .dataframe thead tr:only-child th {\n",
       "        text-align: right;\n",
       "    }\n",
       "\n",
       "    .dataframe thead th {\n",
       "        text-align: left;\n",
       "    }\n",
       "\n",
       "    .dataframe tbody tr th {\n",
       "        vertical-align: top;\n",
       "    }\n",
       "</style>\n",
       "<table border=\"1\" class=\"dataframe\">\n",
       "  <thead>\n",
       "    <tr style=\"text-align: right;\">\n",
       "      <th></th>\n",
       "      <th>0</th>\n",
       "    </tr>\n",
       "  </thead>\n",
       "  <tbody>\n",
       "    <tr>\n",
       "      <th>0</th>\n",
       "      <td>-1.479948</td>\n",
       "    </tr>\n",
       "    <tr>\n",
       "      <th>1</th>\n",
       "      <td>-1.476894</td>\n",
       "    </tr>\n",
       "    <tr>\n",
       "      <th>2</th>\n",
       "      <td>-1.451221</td>\n",
       "    </tr>\n",
       "    <tr>\n",
       "      <th>3</th>\n",
       "      <td>-1.419287</td>\n",
       "    </tr>\n",
       "    <tr>\n",
       "      <th>4</th>\n",
       "      <td>-1.361448</td>\n",
       "    </tr>\n",
       "    <tr>\n",
       "      <th>5</th>\n",
       "      <td>-1.355920</td>\n",
       "    </tr>\n",
       "    <tr>\n",
       "      <th>6</th>\n",
       "      <td>-1.347050</td>\n",
       "    </tr>\n",
       "    <tr>\n",
       "      <th>7</th>\n",
       "      <td>-1.316016</td>\n",
       "    </tr>\n",
       "    <tr>\n",
       "      <th>8</th>\n",
       "      <td>-1.301831</td>\n",
       "    </tr>\n",
       "    <tr>\n",
       "      <th>9</th>\n",
       "      <td>-1.291611</td>\n",
       "    </tr>\n",
       "    <tr>\n",
       "      <th>10</th>\n",
       "      <td>-1.289198</td>\n",
       "    </tr>\n",
       "    <tr>\n",
       "      <th>11</th>\n",
       "      <td>-1.276388</td>\n",
       "    </tr>\n",
       "    <tr>\n",
       "      <th>12</th>\n",
       "      <td>-1.233768</td>\n",
       "    </tr>\n",
       "    <tr>\n",
       "      <th>13</th>\n",
       "      <td>-1.197513</td>\n",
       "    </tr>\n",
       "    <tr>\n",
       "      <th>14</th>\n",
       "      <td>-1.189966</td>\n",
       "    </tr>\n",
       "    <tr>\n",
       "      <th>15</th>\n",
       "      <td>-1.187026</td>\n",
       "    </tr>\n",
       "    <tr>\n",
       "      <th>16</th>\n",
       "      <td>-1.149612</td>\n",
       "    </tr>\n",
       "    <tr>\n",
       "      <th>17</th>\n",
       "      <td>-1.144908</td>\n",
       "    </tr>\n",
       "    <tr>\n",
       "      <th>18</th>\n",
       "      <td>-1.094067</td>\n",
       "    </tr>\n",
       "    <tr>\n",
       "      <th>19</th>\n",
       "      <td>-1.083486</td>\n",
       "    </tr>\n",
       "    <tr>\n",
       "      <th>20</th>\n",
       "      <td>-1.079689</td>\n",
       "    </tr>\n",
       "    <tr>\n",
       "      <th>21</th>\n",
       "      <td>-0.996856</td>\n",
       "    </tr>\n",
       "    <tr>\n",
       "      <th>22</th>\n",
       "      <td>-0.980134</td>\n",
       "    </tr>\n",
       "    <tr>\n",
       "      <th>23</th>\n",
       "      <td>-0.942022</td>\n",
       "    </tr>\n",
       "    <tr>\n",
       "      <th>24</th>\n",
       "      <td>-0.891601</td>\n",
       "    </tr>\n",
       "    <tr>\n",
       "      <th>25</th>\n",
       "      <td>-0.872783</td>\n",
       "    </tr>\n",
       "    <tr>\n",
       "      <th>26</th>\n",
       "      <td>-0.842026</td>\n",
       "    </tr>\n",
       "    <tr>\n",
       "      <th>27</th>\n",
       "      <td>-0.820856</td>\n",
       "    </tr>\n",
       "    <tr>\n",
       "      <th>28</th>\n",
       "      <td>-0.816954</td>\n",
       "    </tr>\n",
       "    <tr>\n",
       "      <th>29</th>\n",
       "      <td>-0.791766</td>\n",
       "    </tr>\n",
       "    <tr>\n",
       "      <th>...</th>\n",
       "      <td>...</td>\n",
       "    </tr>\n",
       "    <tr>\n",
       "      <th>70</th>\n",
       "      <td>0.571424</td>\n",
       "    </tr>\n",
       "    <tr>\n",
       "      <th>71</th>\n",
       "      <td>0.575141</td>\n",
       "    </tr>\n",
       "    <tr>\n",
       "      <th>72</th>\n",
       "      <td>0.597680</td>\n",
       "    </tr>\n",
       "    <tr>\n",
       "      <th>73</th>\n",
       "      <td>0.614421</td>\n",
       "    </tr>\n",
       "    <tr>\n",
       "      <th>74</th>\n",
       "      <td>0.616672</td>\n",
       "    </tr>\n",
       "    <tr>\n",
       "      <th>75</th>\n",
       "      <td>0.660488</td>\n",
       "    </tr>\n",
       "    <tr>\n",
       "      <th>76</th>\n",
       "      <td>0.667680</td>\n",
       "    </tr>\n",
       "    <tr>\n",
       "      <th>77</th>\n",
       "      <td>0.675599</td>\n",
       "    </tr>\n",
       "    <tr>\n",
       "      <th>78</th>\n",
       "      <td>0.718189</td>\n",
       "    </tr>\n",
       "    <tr>\n",
       "      <th>79</th>\n",
       "      <td>0.738072</td>\n",
       "    </tr>\n",
       "    <tr>\n",
       "      <th>80</th>\n",
       "      <td>0.819249</td>\n",
       "    </tr>\n",
       "    <tr>\n",
       "      <th>81</th>\n",
       "      <td>0.848347</td>\n",
       "    </tr>\n",
       "    <tr>\n",
       "      <th>82</th>\n",
       "      <td>0.893446</td>\n",
       "    </tr>\n",
       "    <tr>\n",
       "      <th>83</th>\n",
       "      <td>0.945047</td>\n",
       "    </tr>\n",
       "    <tr>\n",
       "      <th>84</th>\n",
       "      <td>1.009749</td>\n",
       "    </tr>\n",
       "    <tr>\n",
       "      <th>85</th>\n",
       "      <td>1.044691</td>\n",
       "    </tr>\n",
       "    <tr>\n",
       "      <th>86</th>\n",
       "      <td>1.090705</td>\n",
       "    </tr>\n",
       "    <tr>\n",
       "      <th>87</th>\n",
       "      <td>1.098159</td>\n",
       "    </tr>\n",
       "    <tr>\n",
       "      <th>88</th>\n",
       "      <td>1.099106</td>\n",
       "    </tr>\n",
       "    <tr>\n",
       "      <th>89</th>\n",
       "      <td>1.108133</td>\n",
       "    </tr>\n",
       "    <tr>\n",
       "      <th>90</th>\n",
       "      <td>1.131107</td>\n",
       "    </tr>\n",
       "    <tr>\n",
       "      <th>91</th>\n",
       "      <td>1.136806</td>\n",
       "    </tr>\n",
       "    <tr>\n",
       "      <th>92</th>\n",
       "      <td>1.158924</td>\n",
       "    </tr>\n",
       "    <tr>\n",
       "      <th>93</th>\n",
       "      <td>1.189237</td>\n",
       "    </tr>\n",
       "    <tr>\n",
       "      <th>94</th>\n",
       "      <td>1.200990</td>\n",
       "    </tr>\n",
       "    <tr>\n",
       "      <th>95</th>\n",
       "      <td>1.236472</td>\n",
       "    </tr>\n",
       "    <tr>\n",
       "      <th>96</th>\n",
       "      <td>1.298581</td>\n",
       "    </tr>\n",
       "    <tr>\n",
       "      <th>97</th>\n",
       "      <td>1.332287</td>\n",
       "    </tr>\n",
       "    <tr>\n",
       "      <th>98</th>\n",
       "      <td>1.379556</td>\n",
       "    </tr>\n",
       "    <tr>\n",
       "      <th>99</th>\n",
       "      <td>1.466852</td>\n",
       "    </tr>\n",
       "  </tbody>\n",
       "</table>\n",
       "<p>100 rows × 1 columns</p>\n",
       "</div>"
      ],
      "text/plain": [
       "           0\n",
       "0  -1.479948\n",
       "1  -1.476894\n",
       "2  -1.451221\n",
       "3  -1.419287\n",
       "4  -1.361448\n",
       "5  -1.355920\n",
       "6  -1.347050\n",
       "7  -1.316016\n",
       "8  -1.301831\n",
       "9  -1.291611\n",
       "10 -1.289198\n",
       "11 -1.276388\n",
       "12 -1.233768\n",
       "13 -1.197513\n",
       "14 -1.189966\n",
       "15 -1.187026\n",
       "16 -1.149612\n",
       "17 -1.144908\n",
       "18 -1.094067\n",
       "19 -1.083486\n",
       "20 -1.079689\n",
       "21 -0.996856\n",
       "22 -0.980134\n",
       "23 -0.942022\n",
       "24 -0.891601\n",
       "25 -0.872783\n",
       "26 -0.842026\n",
       "27 -0.820856\n",
       "28 -0.816954\n",
       "29 -0.791766\n",
       "..       ...\n",
       "70  0.571424\n",
       "71  0.575141\n",
       "72  0.597680\n",
       "73  0.614421\n",
       "74  0.616672\n",
       "75  0.660488\n",
       "76  0.667680\n",
       "77  0.675599\n",
       "78  0.718189\n",
       "79  0.738072\n",
       "80  0.819249\n",
       "81  0.848347\n",
       "82  0.893446\n",
       "83  0.945047\n",
       "84  1.009749\n",
       "85  1.044691\n",
       "86  1.090705\n",
       "87  1.098159\n",
       "88  1.099106\n",
       "89  1.108133\n",
       "90  1.131107\n",
       "91  1.136806\n",
       "92  1.158924\n",
       "93  1.189237\n",
       "94  1.200990\n",
       "95  1.236472\n",
       "96  1.298581\n",
       "97  1.332287\n",
       "98  1.379556\n",
       "99  1.466852\n",
       "\n",
       "[100 rows x 1 columns]"
      ]
     },
     "execution_count": 131,
     "metadata": {},
     "output_type": "execute_result"
    }
   ],
   "source": [
    "X_test_P2"
   ]
  },
  {
   "cell_type": "code",
   "execution_count": 138,
   "metadata": {},
   "outputs": [
    {
     "name": "stdout",
     "output_type": "stream",
     "text": [
      "-1.47994824083\n",
      "-1.47689377198\n",
      "-1.45122073954\n",
      "-1.41928669884\n",
      "-1.36144761843\n",
      "-1.35591996963\n",
      "-1.34704989271\n",
      "-1.31601563208\n",
      "-1.3018308606\n",
      "-1.29161062773\n",
      "-1.28919831884\n",
      "-1.27638770372\n",
      "-1.23376797183\n",
      "-1.19751281308\n",
      "-1.18996626881\n",
      "-1.18702565299\n",
      "-1.14961237105\n",
      "-1.14490837715\n",
      "-1.09406650021\n",
      "-1.08348644311\n",
      "-1.07968948235\n",
      "-0.996855580553\n",
      "-0.98013372748\n",
      "-0.942022023945\n",
      "-0.891600758859\n",
      "-0.872782997131\n",
      "-0.842026041341\n",
      "-0.820856219979\n",
      "-0.816954424945\n",
      "-0.791765987425\n",
      "-0.778726349099\n",
      "-0.7559893592\n",
      "-0.746422242852\n",
      "-0.74227384708\n",
      "-0.680344098669\n",
      "-0.658999610696\n",
      "-0.650148355581\n",
      "-0.650129249737\n",
      "-0.581885571692\n",
      "-0.567751723435\n",
      "-0.539972046498\n",
      "-0.491491629351\n",
      "-0.445075579973\n",
      "-0.406069783117\n",
      "-0.324693896589\n",
      "-0.296213175774\n",
      "-0.202037269174\n",
      "-0.101994073751\n",
      "-0.00907523629824\n",
      "0.00394379399583\n",
      "0.0526556450938\n",
      "0.0596917548797\n",
      "0.0814459271712\n",
      "0.0955364295832\n",
      "0.130436047215\n",
      "0.141678915214\n",
      "0.14452875203\n",
      "0.150849355674\n",
      "0.206117477226\n",
      "0.223934189984\n",
      "0.26426824447\n",
      "0.297056445296\n",
      "0.336081826831\n",
      "0.388149320824\n",
      "0.397068057421\n",
      "0.460045930959\n",
      "0.479107364215\n",
      "0.489480334341\n",
      "0.493639168113\n",
      "0.547319968413\n",
      "0.571423903404\n",
      "0.575141032152\n",
      "0.597679559478\n",
      "0.614420794948\n",
      "0.616672446116\n",
      "0.660488243572\n",
      "0.667679866693\n",
      "0.675598692717\n",
      "0.718189266834\n",
      "0.738071581687\n",
      "0.819249199978\n",
      "0.848347405521\n",
      "0.893446398236\n",
      "0.945046674209\n",
      "1.00974898412\n",
      "1.04469121873\n",
      "1.09070497234\n",
      "1.09815905529\n",
      "1.09910558156\n",
      "1.10813267938\n",
      "1.13110724958\n",
      "1.13680606528\n",
      "1.15892444192\n",
      "1.18923705989\n",
      "1.20098975982\n",
      "1.2364724612\n",
      "1.29858140797\n",
      "1.33228702252\n",
      "1.37955639506\n",
      "1.46685206954\n"
     ]
    }
   ],
   "source": [
    "for k in y_P2:\n",
    "    print(k)"
   ]
  },
  {
   "cell_type": "code",
   "execution_count": 162,
   "metadata": {},
   "outputs": [
    {
     "data": {
      "text/plain": [
       "array([  1.25359863e-16,  -1.02418728e-16,   2.42232228e-17,\n",
       "         9.20595265e-17,   1.00000000e+00,  -1.32892485e-17])"
      ]
     },
     "execution_count": 162,
     "metadata": {},
     "output_type": "execute_result"
    }
   ],
   "source": [
    "from numpy.polynomial import Polynomial\n",
    "XsP2 = df_Part_2['X']\n",
    "YsP2 = df_Part_2['Y']\n",
    "X_arrayP2 = np.asarray(XsP2)\n",
    "Y_arrayP2 = np.asarray(XsP2)\n",
    "#z = Polynomial.fit(X_array, Y_array, 7)\n",
    "z_P2 = np.polyfit(X_arrayP2, Y_arrayP2, 5)\n",
    "y_P2 = np.polyval(z_P2,Xtest_P2);\n",
    "\n",
    "z_P2"
   ]
  },
  {
   "cell_type": "code",
   "execution_count": 89,
   "metadata": {},
   "outputs": [
    {
     "data": {
      "image/png": "[encoded data removed]",
      "text/plain": [
       "<matplotlib.figure.Figure at 0x1a1e07a588>"
      ]
     },
     "metadata": {},
     "output_type": "display_data"
    }
   ],
   "source": [
    "df_Part_2.plot(x = 'X',y = 'Y', kind='scatter')\n",
    "plt.show()"
   ]
  },
  {
   "cell_type": "code",
   "execution_count": null,
   "metadata": {
    "collapsed": true
   },
   "outputs": [],
   "source": [
    "# First, lets try different Norms: From 1 to 10, and see how the Cross Validation Error varies with each of these norms.\n",
    "for k in range(1,11):\n",
    "    "
   ]
  },
  {
   "cell_type": "code",
   "execution_count": null,
   "metadata": {
    "collapsed": true
   },
   "outputs": [],
   "source": [
    "# Lets also try adding a few wrinkles to this model."
   ]
  },
  {
   "cell_type": "code",
   "execution_count": null,
   "metadata": {
    "collapsed": true
   },
   "outputs": [],
   "source": [
    "# Problem 3: \n"
   ]
  }
 ],
 "metadata": {
  "kernelspec": {
   "display_name": "Python 3",
   "language": "python",
   "name": "python3"
  },
  "language_info": {
   "codemirror_mode": {
    "name": "ipython",
    "version": 3
   },
   "file_extension": ".py",
   "mimetype": "text/x-python",
   "name": "python",
   "nbconvert_exporter": "python",
   "pygments_lexer": "ipython3",
   "version": "3.6.3"
  }
 },
 "nbformat": 4,
 "nbformat_minor": 2
}
