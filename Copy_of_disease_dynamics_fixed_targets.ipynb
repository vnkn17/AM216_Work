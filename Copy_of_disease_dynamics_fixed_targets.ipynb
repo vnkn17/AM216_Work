{
  "nbformat": 4,
  "nbformat_minor": 0,
  "metadata": {
    "colab": {
      "name": "Copy of disease_dynamics_fixed_targets.ipynb",
      "version": "0.3.2",
      "provenance": [],
      "collapsed_sections": [],
      "toc_visible": true,
      "include_colab_link": true
    },
    "language_info": {
      "codemirror_mode": {
        "name": "ipython",
        "version": 3
      },
      "file_extension": ".py",
      "mimetype": "text/x-python",
      "name": "python",
      "nbconvert_exporter": "python",
      "pygments_lexer": "ipython3",
      "version": "3.6.8"
    },
    "kernelspec": {
      "display_name": "tfk2",
      "language": "python",
      "name": "tfk2"
    }
  },
  "cells": [
    {
      "cell_type": "markdown",
      "metadata": {
        "id": "view-in-github",
        "colab_type": "text"
      },
      "source": [
        "<a href=\"https://colab.research.google.com/github/vnkn17/AM216_Work/blob/master/Copy_of_disease_dynamics_fixed_targets.ipynb\" target=\"_parent\"><img src=\"https://colab.research.google.com/assets/colab-badge.svg\" alt=\"Open In Colab\"/></a>"
      ]
    },
    {
      "cell_type": "code",
      "metadata": {
        "colab_type": "code",
        "id": "hgONnI0szzd5",
        "outputId": "70508241-7c0f-4d27-9556-eeba3f426e4f",
        "colab": {
          "base_uri": "https://localhost:8080/",
          "height": 136
        }
      },
      "source": [
        "import tensorflow as tf\n",
        "import numpy as np\n",
        "from graph_nets import modules\n",
        "import sonnet as snt\n",
        "from graph_nets import blocks\n",
        "from graph_nets import utils_tf\n",
        "\n",
        "import pandas as pd\n",
        "\n",
        "from __future__ import absolute_import\n",
        "from __future__ import division\n",
        "from __future__ import print_function\n",
        "\n",
        "from graph_nets import blocks\n",
        "from graph_nets import graphs\n",
        "from graph_nets import modules\n",
        "from graph_nets import utils_np\n",
        "from graph_nets import utils_tf\n",
        "\n",
        "import matplotlib.pyplot as plt\n",
        "import networkx as nx\n",
        "import numpy as np\n",
        "import sonnet as snt\n",
        "import tensorflow as tf"
      ],
      "execution_count": 3,
      "outputs": [
        {
          "output_type": "stream",
          "text": [
            "\n",
            "WARNING: The TensorFlow contrib module will not be included in TensorFlow 2.0.\n",
            "For more information, please see:\n",
            "  * https://github.com/tensorflow/community/blob/master/rfcs/20180907-contrib-sunset.md\n",
            "  * https://github.com/tensorflow/addons\n",
            "If you depend on functionality not listed there, please file an issue.\n",
            "\n"
          ],
          "name": "stdout"
        }
      ]
    },
    {
      "cell_type": "code",
      "metadata": {
        "id": "UHz65aPsO2d3",
        "colab_type": "code",
        "colab": {}
      },
      "source": [
        "# Simulation Code:\n",
        "## Simulation Model: \n"
      ],
      "execution_count": 0,
      "outputs": []
    },
    {
      "cell_type": "code",
      "metadata": {
        "id": "gZfzB528GtYD",
        "colab_type": "code",
        "colab": {}
      },
      "source": [
        ""
      ],
      "execution_count": 0,
      "outputs": []
    },
    {
      "cell_type": "code",
      "metadata": {
        "id": "rCN5Z6FPweg-",
        "colab_type": "code",
        "colab": {}
      },
      "source": [
        "healthy_time_series_2 = 'https://raw.githubusercontent.com/vnkn17/Final_Project_AM216/master/Test_Datasets/Healthy/healthy_time_series_1.txt'\n",
        "sick_time_series = 'https://raw.githubusercontent.com/vnkn17/Final_Project_AM216/master/Test_Datasets/Sick/sick_time_series.txt'\n",
        "#healthy_time_series_1 = pd.read_csv(dataset_1, header = None, sep = '\\t')\n"
      ],
      "execution_count": 0,
      "outputs": []
    },
    {
      "cell_type": "code",
      "metadata": {
        "id": "Z3mrwceiwzz7",
        "colab_type": "code",
        "outputId": "60e70541-33bf-4b05-8814-8b432b5766fe",
        "colab": {
          "base_uri": "https://localhost:8080/",
          "height": 1969
        }
      },
      "source": [
        "healthy_time_series_1"
      ],
      "execution_count": 0,
      "outputs": [
        {
          "output_type": "execute_result",
          "data": {
            "text/html": [
              "<div>\n",
              "<style scoped>\n",
              "    .dataframe tbody tr th:only-of-type {\n",
              "        vertical-align: middle;\n",
              "    }\n",
              "\n",
              "    .dataframe tbody tr th {\n",
              "        vertical-align: top;\n",
              "    }\n",
              "\n",
              "    .dataframe thead th {\n",
              "        text-align: right;\n",
              "    }\n",
              "</style>\n",
              "<table border=\"1\" class=\"dataframe\">\n",
              "  <thead>\n",
              "    <tr style=\"text-align: right;\">\n",
              "      <th></th>\n",
              "      <th>0</th>\n",
              "      <th>1</th>\n",
              "      <th>2</th>\n",
              "      <th>3</th>\n",
              "      <th>4</th>\n",
              "      <th>5</th>\n",
              "      <th>6</th>\n",
              "      <th>7</th>\n",
              "      <th>8</th>\n",
              "      <th>9</th>\n",
              "    </tr>\n",
              "  </thead>\n",
              "  <tbody>\n",
              "    <tr>\n",
              "      <th>0</th>\n",
              "      <td>1000</td>\n",
              "      <td>1000</td>\n",
              "      <td>1000</td>\n",
              "      <td>1000</td>\n",
              "      <td>1000</td>\n",
              "      <td>1000</td>\n",
              "      <td>1000</td>\n",
              "      <td>1000</td>\n",
              "      <td>1000</td>\n",
              "      <td>1000</td>\n",
              "    </tr>\n",
              "    <tr>\n",
              "      <th>1</th>\n",
              "      <td>995</td>\n",
              "      <td>999</td>\n",
              "      <td>999</td>\n",
              "      <td>999</td>\n",
              "      <td>999</td>\n",
              "      <td>998</td>\n",
              "      <td>998</td>\n",
              "      <td>999</td>\n",
              "      <td>997</td>\n",
              "      <td>998</td>\n",
              "    </tr>\n",
              "    <tr>\n",
              "      <th>2</th>\n",
              "      <td>991</td>\n",
              "      <td>995</td>\n",
              "      <td>995</td>\n",
              "      <td>994</td>\n",
              "      <td>994</td>\n",
              "      <td>993</td>\n",
              "      <td>993</td>\n",
              "      <td>994</td>\n",
              "      <td>989</td>\n",
              "      <td>991</td>\n",
              "    </tr>\n",
              "    <tr>\n",
              "      <th>3</th>\n",
              "      <td>982</td>\n",
              "      <td>985</td>\n",
              "      <td>985</td>\n",
              "      <td>982</td>\n",
              "      <td>981</td>\n",
              "      <td>978</td>\n",
              "      <td>979</td>\n",
              "      <td>981</td>\n",
              "      <td>969</td>\n",
              "      <td>972</td>\n",
              "    </tr>\n",
              "    <tr>\n",
              "      <th>4</th>\n",
              "      <td>960</td>\n",
              "      <td>959</td>\n",
              "      <td>959</td>\n",
              "      <td>951</td>\n",
              "      <td>946</td>\n",
              "      <td>941</td>\n",
              "      <td>943</td>\n",
              "      <td>945</td>\n",
              "      <td>918</td>\n",
              "      <td>924</td>\n",
              "    </tr>\n",
              "    <tr>\n",
              "      <th>5</th>\n",
              "      <td>904</td>\n",
              "      <td>893</td>\n",
              "      <td>895</td>\n",
              "      <td>873</td>\n",
              "      <td>859</td>\n",
              "      <td>850</td>\n",
              "      <td>854</td>\n",
              "      <td>855</td>\n",
              "      <td>796</td>\n",
              "      <td>808</td>\n",
              "    </tr>\n",
              "    <tr>\n",
              "      <th>6</th>\n",
              "      <td>771</td>\n",
              "      <td>742</td>\n",
              "      <td>748</td>\n",
              "      <td>697</td>\n",
              "      <td>667</td>\n",
              "      <td>653</td>\n",
              "      <td>660</td>\n",
              "      <td>659</td>\n",
              "      <td>550</td>\n",
              "      <td>570</td>\n",
              "    </tr>\n",
              "    <tr>\n",
              "      <th>7</th>\n",
              "      <td>512</td>\n",
              "      <td>461</td>\n",
              "      <td>473</td>\n",
              "      <td>392</td>\n",
              "      <td>352</td>\n",
              "      <td>337</td>\n",
              "      <td>345</td>\n",
              "      <td>344</td>\n",
              "      <td>217</td>\n",
              "      <td>239</td>\n",
              "    </tr>\n",
              "    <tr>\n",
              "      <th>8</th>\n",
              "      <td>186</td>\n",
              "      <td>144</td>\n",
              "      <td>156</td>\n",
              "      <td>97</td>\n",
              "      <td>76</td>\n",
              "      <td>71</td>\n",
              "      <td>74</td>\n",
              "      <td>77</td>\n",
              "      <td>25</td>\n",
              "      <td>31</td>\n",
              "    </tr>\n",
              "    <tr>\n",
              "      <th>9</th>\n",
              "      <td>18</td>\n",
              "      <td>10</td>\n",
              "      <td>13</td>\n",
              "      <td>4</td>\n",
              "      <td>3</td>\n",
              "      <td>2</td>\n",
              "      <td>3</td>\n",
              "      <td>3</td>\n",
              "      <td>0</td>\n",
              "      <td>0</td>\n",
              "    </tr>\n",
              "    <tr>\n",
              "      <th>10</th>\n",
              "      <td>0</td>\n",
              "      <td>0</td>\n",
              "      <td>0</td>\n",
              "      <td>0</td>\n",
              "      <td>0</td>\n",
              "      <td>0</td>\n",
              "      <td>0</td>\n",
              "      <td>0</td>\n",
              "      <td>0</td>\n",
              "      <td>0</td>\n",
              "    </tr>\n",
              "    <tr>\n",
              "      <th>11</th>\n",
              "      <td>0</td>\n",
              "      <td>0</td>\n",
              "      <td>0</td>\n",
              "      <td>0</td>\n",
              "      <td>0</td>\n",
              "      <td>0</td>\n",
              "      <td>0</td>\n",
              "      <td>0</td>\n",
              "      <td>0</td>\n",
              "      <td>0</td>\n",
              "    </tr>\n",
              "    <tr>\n",
              "      <th>12</th>\n",
              "      <td>0</td>\n",
              "      <td>0</td>\n",
              "      <td>0</td>\n",
              "      <td>0</td>\n",
              "      <td>0</td>\n",
              "      <td>0</td>\n",
              "      <td>0</td>\n",
              "      <td>0</td>\n",
              "      <td>0</td>\n",
              "      <td>0</td>\n",
              "    </tr>\n",
              "    <tr>\n",
              "      <th>13</th>\n",
              "      <td>0</td>\n",
              "      <td>0</td>\n",
              "      <td>0</td>\n",
              "      <td>0</td>\n",
              "      <td>0</td>\n",
              "      <td>0</td>\n",
              "      <td>0</td>\n",
              "      <td>0</td>\n",
              "      <td>0</td>\n",
              "      <td>0</td>\n",
              "    </tr>\n",
              "    <tr>\n",
              "      <th>14</th>\n",
              "      <td>0</td>\n",
              "      <td>0</td>\n",
              "      <td>0</td>\n",
              "      <td>0</td>\n",
              "      <td>0</td>\n",
              "      <td>0</td>\n",
              "      <td>0</td>\n",
              "      <td>0</td>\n",
              "      <td>0</td>\n",
              "      <td>0</td>\n",
              "    </tr>\n",
              "    <tr>\n",
              "      <th>15</th>\n",
              "      <td>0</td>\n",
              "      <td>0</td>\n",
              "      <td>0</td>\n",
              "      <td>0</td>\n",
              "      <td>0</td>\n",
              "      <td>0</td>\n",
              "      <td>0</td>\n",
              "      <td>0</td>\n",
              "      <td>0</td>\n",
              "      <td>0</td>\n",
              "    </tr>\n",
              "    <tr>\n",
              "      <th>16</th>\n",
              "      <td>0</td>\n",
              "      <td>0</td>\n",
              "      <td>0</td>\n",
              "      <td>0</td>\n",
              "      <td>0</td>\n",
              "      <td>0</td>\n",
              "      <td>0</td>\n",
              "      <td>0</td>\n",
              "      <td>0</td>\n",
              "      <td>0</td>\n",
              "    </tr>\n",
              "    <tr>\n",
              "      <th>17</th>\n",
              "      <td>0</td>\n",
              "      <td>0</td>\n",
              "      <td>0</td>\n",
              "      <td>0</td>\n",
              "      <td>0</td>\n",
              "      <td>0</td>\n",
              "      <td>0</td>\n",
              "      <td>0</td>\n",
              "      <td>0</td>\n",
              "      <td>0</td>\n",
              "    </tr>\n",
              "    <tr>\n",
              "      <th>18</th>\n",
              "      <td>0</td>\n",
              "      <td>0</td>\n",
              "      <td>0</td>\n",
              "      <td>0</td>\n",
              "      <td>0</td>\n",
              "      <td>0</td>\n",
              "      <td>0</td>\n",
              "      <td>0</td>\n",
              "      <td>0</td>\n",
              "      <td>0</td>\n",
              "    </tr>\n",
              "    <tr>\n",
              "      <th>19</th>\n",
              "      <td>0</td>\n",
              "      <td>0</td>\n",
              "      <td>0</td>\n",
              "      <td>0</td>\n",
              "      <td>0</td>\n",
              "      <td>0</td>\n",
              "      <td>0</td>\n",
              "      <td>0</td>\n",
              "      <td>0</td>\n",
              "      <td>0</td>\n",
              "    </tr>\n",
              "    <tr>\n",
              "      <th>20</th>\n",
              "      <td>0</td>\n",
              "      <td>0</td>\n",
              "      <td>0</td>\n",
              "      <td>0</td>\n",
              "      <td>0</td>\n",
              "      <td>0</td>\n",
              "      <td>0</td>\n",
              "      <td>0</td>\n",
              "      <td>0</td>\n",
              "      <td>0</td>\n",
              "    </tr>\n",
              "    <tr>\n",
              "      <th>21</th>\n",
              "      <td>0</td>\n",
              "      <td>0</td>\n",
              "      <td>0</td>\n",
              "      <td>0</td>\n",
              "      <td>0</td>\n",
              "      <td>0</td>\n",
              "      <td>0</td>\n",
              "      <td>0</td>\n",
              "      <td>0</td>\n",
              "      <td>0</td>\n",
              "    </tr>\n",
              "    <tr>\n",
              "      <th>22</th>\n",
              "      <td>0</td>\n",
              "      <td>0</td>\n",
              "      <td>0</td>\n",
              "      <td>0</td>\n",
              "      <td>0</td>\n",
              "      <td>0</td>\n",
              "      <td>0</td>\n",
              "      <td>0</td>\n",
              "      <td>0</td>\n",
              "      <td>0</td>\n",
              "    </tr>\n",
              "    <tr>\n",
              "      <th>23</th>\n",
              "      <td>0</td>\n",
              "      <td>0</td>\n",
              "      <td>0</td>\n",
              "      <td>0</td>\n",
              "      <td>0</td>\n",
              "      <td>0</td>\n",
              "      <td>0</td>\n",
              "      <td>0</td>\n",
              "      <td>0</td>\n",
              "      <td>0</td>\n",
              "    </tr>\n",
              "    <tr>\n",
              "      <th>24</th>\n",
              "      <td>0</td>\n",
              "      <td>0</td>\n",
              "      <td>0</td>\n",
              "      <td>0</td>\n",
              "      <td>0</td>\n",
              "      <td>0</td>\n",
              "      <td>0</td>\n",
              "      <td>0</td>\n",
              "      <td>0</td>\n",
              "      <td>0</td>\n",
              "    </tr>\n",
              "    <tr>\n",
              "      <th>25</th>\n",
              "      <td>0</td>\n",
              "      <td>0</td>\n",
              "      <td>0</td>\n",
              "      <td>0</td>\n",
              "      <td>0</td>\n",
              "      <td>0</td>\n",
              "      <td>0</td>\n",
              "      <td>0</td>\n",
              "      <td>0</td>\n",
              "      <td>0</td>\n",
              "    </tr>\n",
              "    <tr>\n",
              "      <th>26</th>\n",
              "      <td>0</td>\n",
              "      <td>0</td>\n",
              "      <td>0</td>\n",
              "      <td>0</td>\n",
              "      <td>0</td>\n",
              "      <td>0</td>\n",
              "      <td>0</td>\n",
              "      <td>0</td>\n",
              "      <td>0</td>\n",
              "      <td>0</td>\n",
              "    </tr>\n",
              "    <tr>\n",
              "      <th>27</th>\n",
              "      <td>0</td>\n",
              "      <td>0</td>\n",
              "      <td>0</td>\n",
              "      <td>0</td>\n",
              "      <td>0</td>\n",
              "      <td>0</td>\n",
              "      <td>0</td>\n",
              "      <td>0</td>\n",
              "      <td>0</td>\n",
              "      <td>0</td>\n",
              "    </tr>\n",
              "    <tr>\n",
              "      <th>28</th>\n",
              "      <td>0</td>\n",
              "      <td>0</td>\n",
              "      <td>0</td>\n",
              "      <td>0</td>\n",
              "      <td>0</td>\n",
              "      <td>0</td>\n",
              "      <td>0</td>\n",
              "      <td>0</td>\n",
              "      <td>0</td>\n",
              "      <td>0</td>\n",
              "    </tr>\n",
              "    <tr>\n",
              "      <th>29</th>\n",
              "      <td>0</td>\n",
              "      <td>0</td>\n",
              "      <td>0</td>\n",
              "      <td>0</td>\n",
              "      <td>0</td>\n",
              "      <td>0</td>\n",
              "      <td>0</td>\n",
              "      <td>0</td>\n",
              "      <td>0</td>\n",
              "      <td>0</td>\n",
              "    </tr>\n",
              "    <tr>\n",
              "      <th>...</th>\n",
              "      <td>...</td>\n",
              "      <td>...</td>\n",
              "      <td>...</td>\n",
              "      <td>...</td>\n",
              "      <td>...</td>\n",
              "      <td>...</td>\n",
              "      <td>...</td>\n",
              "      <td>...</td>\n",
              "      <td>...</td>\n",
              "      <td>...</td>\n",
              "    </tr>\n",
              "    <tr>\n",
              "      <th>71</th>\n",
              "      <td>0</td>\n",
              "      <td>0</td>\n",
              "      <td>0</td>\n",
              "      <td>0</td>\n",
              "      <td>0</td>\n",
              "      <td>0</td>\n",
              "      <td>0</td>\n",
              "      <td>0</td>\n",
              "      <td>0</td>\n",
              "      <td>0</td>\n",
              "    </tr>\n",
              "    <tr>\n",
              "      <th>72</th>\n",
              "      <td>0</td>\n",
              "      <td>0</td>\n",
              "      <td>0</td>\n",
              "      <td>0</td>\n",
              "      <td>0</td>\n",
              "      <td>0</td>\n",
              "      <td>0</td>\n",
              "      <td>0</td>\n",
              "      <td>0</td>\n",
              "      <td>0</td>\n",
              "    </tr>\n",
              "    <tr>\n",
              "      <th>73</th>\n",
              "      <td>0</td>\n",
              "      <td>0</td>\n",
              "      <td>0</td>\n",
              "      <td>0</td>\n",
              "      <td>0</td>\n",
              "      <td>0</td>\n",
              "      <td>0</td>\n",
              "      <td>0</td>\n",
              "      <td>0</td>\n",
              "      <td>0</td>\n",
              "    </tr>\n",
              "    <tr>\n",
              "      <th>74</th>\n",
              "      <td>0</td>\n",
              "      <td>0</td>\n",
              "      <td>0</td>\n",
              "      <td>0</td>\n",
              "      <td>0</td>\n",
              "      <td>0</td>\n",
              "      <td>0</td>\n",
              "      <td>0</td>\n",
              "      <td>0</td>\n",
              "      <td>0</td>\n",
              "    </tr>\n",
              "    <tr>\n",
              "      <th>75</th>\n",
              "      <td>0</td>\n",
              "      <td>0</td>\n",
              "      <td>0</td>\n",
              "      <td>0</td>\n",
              "      <td>0</td>\n",
              "      <td>0</td>\n",
              "      <td>0</td>\n",
              "      <td>0</td>\n",
              "      <td>0</td>\n",
              "      <td>0</td>\n",
              "    </tr>\n",
              "    <tr>\n",
              "      <th>76</th>\n",
              "      <td>0</td>\n",
              "      <td>0</td>\n",
              "      <td>0</td>\n",
              "      <td>0</td>\n",
              "      <td>0</td>\n",
              "      <td>0</td>\n",
              "      <td>0</td>\n",
              "      <td>0</td>\n",
              "      <td>0</td>\n",
              "      <td>0</td>\n",
              "    </tr>\n",
              "    <tr>\n",
              "      <th>77</th>\n",
              "      <td>0</td>\n",
              "      <td>0</td>\n",
              "      <td>0</td>\n",
              "      <td>0</td>\n",
              "      <td>0</td>\n",
              "      <td>0</td>\n",
              "      <td>0</td>\n",
              "      <td>0</td>\n",
              "      <td>0</td>\n",
              "      <td>0</td>\n",
              "    </tr>\n",
              "    <tr>\n",
              "      <th>78</th>\n",
              "      <td>0</td>\n",
              "      <td>0</td>\n",
              "      <td>0</td>\n",
              "      <td>0</td>\n",
              "      <td>0</td>\n",
              "      <td>0</td>\n",
              "      <td>0</td>\n",
              "      <td>0</td>\n",
              "      <td>0</td>\n",
              "      <td>0</td>\n",
              "    </tr>\n",
              "    <tr>\n",
              "      <th>79</th>\n",
              "      <td>0</td>\n",
              "      <td>0</td>\n",
              "      <td>0</td>\n",
              "      <td>0</td>\n",
              "      <td>0</td>\n",
              "      <td>0</td>\n",
              "      <td>0</td>\n",
              "      <td>0</td>\n",
              "      <td>0</td>\n",
              "      <td>0</td>\n",
              "    </tr>\n",
              "    <tr>\n",
              "      <th>80</th>\n",
              "      <td>0</td>\n",
              "      <td>0</td>\n",
              "      <td>0</td>\n",
              "      <td>0</td>\n",
              "      <td>0</td>\n",
              "      <td>0</td>\n",
              "      <td>0</td>\n",
              "      <td>0</td>\n",
              "      <td>0</td>\n",
              "      <td>0</td>\n",
              "    </tr>\n",
              "    <tr>\n",
              "      <th>81</th>\n",
              "      <td>0</td>\n",
              "      <td>0</td>\n",
              "      <td>0</td>\n",
              "      <td>0</td>\n",
              "      <td>0</td>\n",
              "      <td>0</td>\n",
              "      <td>0</td>\n",
              "      <td>0</td>\n",
              "      <td>0</td>\n",
              "      <td>0</td>\n",
              "    </tr>\n",
              "    <tr>\n",
              "      <th>82</th>\n",
              "      <td>0</td>\n",
              "      <td>0</td>\n",
              "      <td>0</td>\n",
              "      <td>0</td>\n",
              "      <td>0</td>\n",
              "      <td>0</td>\n",
              "      <td>0</td>\n",
              "      <td>0</td>\n",
              "      <td>0</td>\n",
              "      <td>0</td>\n",
              "    </tr>\n",
              "    <tr>\n",
              "      <th>83</th>\n",
              "      <td>0</td>\n",
              "      <td>0</td>\n",
              "      <td>0</td>\n",
              "      <td>0</td>\n",
              "      <td>0</td>\n",
              "      <td>0</td>\n",
              "      <td>0</td>\n",
              "      <td>0</td>\n",
              "      <td>0</td>\n",
              "      <td>0</td>\n",
              "    </tr>\n",
              "    <tr>\n",
              "      <th>84</th>\n",
              "      <td>0</td>\n",
              "      <td>0</td>\n",
              "      <td>0</td>\n",
              "      <td>0</td>\n",
              "      <td>0</td>\n",
              "      <td>0</td>\n",
              "      <td>0</td>\n",
              "      <td>0</td>\n",
              "      <td>0</td>\n",
              "      <td>0</td>\n",
              "    </tr>\n",
              "    <tr>\n",
              "      <th>85</th>\n",
              "      <td>0</td>\n",
              "      <td>0</td>\n",
              "      <td>0</td>\n",
              "      <td>0</td>\n",
              "      <td>0</td>\n",
              "      <td>0</td>\n",
              "      <td>0</td>\n",
              "      <td>0</td>\n",
              "      <td>0</td>\n",
              "      <td>0</td>\n",
              "    </tr>\n",
              "    <tr>\n",
              "      <th>86</th>\n",
              "      <td>0</td>\n",
              "      <td>0</td>\n",
              "      <td>0</td>\n",
              "      <td>0</td>\n",
              "      <td>0</td>\n",
              "      <td>0</td>\n",
              "      <td>0</td>\n",
              "      <td>0</td>\n",
              "      <td>0</td>\n",
              "      <td>0</td>\n",
              "    </tr>\n",
              "    <tr>\n",
              "      <th>87</th>\n",
              "      <td>0</td>\n",
              "      <td>0</td>\n",
              "      <td>0</td>\n",
              "      <td>0</td>\n",
              "      <td>0</td>\n",
              "      <td>0</td>\n",
              "      <td>0</td>\n",
              "      <td>0</td>\n",
              "      <td>0</td>\n",
              "      <td>0</td>\n",
              "    </tr>\n",
              "    <tr>\n",
              "      <th>88</th>\n",
              "      <td>0</td>\n",
              "      <td>0</td>\n",
              "      <td>0</td>\n",
              "      <td>0</td>\n",
              "      <td>0</td>\n",
              "      <td>0</td>\n",
              "      <td>0</td>\n",
              "      <td>0</td>\n",
              "      <td>0</td>\n",
              "      <td>0</td>\n",
              "    </tr>\n",
              "    <tr>\n",
              "      <th>89</th>\n",
              "      <td>0</td>\n",
              "      <td>0</td>\n",
              "      <td>0</td>\n",
              "      <td>0</td>\n",
              "      <td>0</td>\n",
              "      <td>0</td>\n",
              "      <td>0</td>\n",
              "      <td>0</td>\n",
              "      <td>0</td>\n",
              "      <td>0</td>\n",
              "    </tr>\n",
              "    <tr>\n",
              "      <th>90</th>\n",
              "      <td>0</td>\n",
              "      <td>0</td>\n",
              "      <td>0</td>\n",
              "      <td>0</td>\n",
              "      <td>0</td>\n",
              "      <td>0</td>\n",
              "      <td>0</td>\n",
              "      <td>0</td>\n",
              "      <td>0</td>\n",
              "      <td>0</td>\n",
              "    </tr>\n",
              "    <tr>\n",
              "      <th>91</th>\n",
              "      <td>0</td>\n",
              "      <td>0</td>\n",
              "      <td>0</td>\n",
              "      <td>0</td>\n",
              "      <td>0</td>\n",
              "      <td>0</td>\n",
              "      <td>0</td>\n",
              "      <td>0</td>\n",
              "      <td>0</td>\n",
              "      <td>0</td>\n",
              "    </tr>\n",
              "    <tr>\n",
              "      <th>92</th>\n",
              "      <td>0</td>\n",
              "      <td>0</td>\n",
              "      <td>0</td>\n",
              "      <td>0</td>\n",
              "      <td>0</td>\n",
              "      <td>0</td>\n",
              "      <td>0</td>\n",
              "      <td>0</td>\n",
              "      <td>0</td>\n",
              "      <td>0</td>\n",
              "    </tr>\n",
              "    <tr>\n",
              "      <th>93</th>\n",
              "      <td>0</td>\n",
              "      <td>0</td>\n",
              "      <td>0</td>\n",
              "      <td>0</td>\n",
              "      <td>0</td>\n",
              "      <td>0</td>\n",
              "      <td>0</td>\n",
              "      <td>0</td>\n",
              "      <td>0</td>\n",
              "      <td>0</td>\n",
              "    </tr>\n",
              "    <tr>\n",
              "      <th>94</th>\n",
              "      <td>0</td>\n",
              "      <td>0</td>\n",
              "      <td>0</td>\n",
              "      <td>0</td>\n",
              "      <td>0</td>\n",
              "      <td>0</td>\n",
              "      <td>0</td>\n",
              "      <td>0</td>\n",
              "      <td>0</td>\n",
              "      <td>0</td>\n",
              "    </tr>\n",
              "    <tr>\n",
              "      <th>95</th>\n",
              "      <td>0</td>\n",
              "      <td>0</td>\n",
              "      <td>0</td>\n",
              "      <td>0</td>\n",
              "      <td>0</td>\n",
              "      <td>0</td>\n",
              "      <td>0</td>\n",
              "      <td>0</td>\n",
              "      <td>0</td>\n",
              "      <td>0</td>\n",
              "    </tr>\n",
              "    <tr>\n",
              "      <th>96</th>\n",
              "      <td>0</td>\n",
              "      <td>0</td>\n",
              "      <td>0</td>\n",
              "      <td>0</td>\n",
              "      <td>0</td>\n",
              "      <td>0</td>\n",
              "      <td>0</td>\n",
              "      <td>0</td>\n",
              "      <td>0</td>\n",
              "      <td>0</td>\n",
              "    </tr>\n",
              "    <tr>\n",
              "      <th>97</th>\n",
              "      <td>0</td>\n",
              "      <td>0</td>\n",
              "      <td>0</td>\n",
              "      <td>0</td>\n",
              "      <td>0</td>\n",
              "      <td>0</td>\n",
              "      <td>0</td>\n",
              "      <td>0</td>\n",
              "      <td>0</td>\n",
              "      <td>0</td>\n",
              "    </tr>\n",
              "    <tr>\n",
              "      <th>98</th>\n",
              "      <td>0</td>\n",
              "      <td>0</td>\n",
              "      <td>0</td>\n",
              "      <td>0</td>\n",
              "      <td>0</td>\n",
              "      <td>0</td>\n",
              "      <td>0</td>\n",
              "      <td>0</td>\n",
              "      <td>0</td>\n",
              "      <td>0</td>\n",
              "    </tr>\n",
              "    <tr>\n",
              "      <th>99</th>\n",
              "      <td>0</td>\n",
              "      <td>0</td>\n",
              "      <td>0</td>\n",
              "      <td>0</td>\n",
              "      <td>0</td>\n",
              "      <td>0</td>\n",
              "      <td>0</td>\n",
              "      <td>0</td>\n",
              "      <td>0</td>\n",
              "      <td>0</td>\n",
              "    </tr>\n",
              "    <tr>\n",
              "      <th>100</th>\n",
              "      <td>0</td>\n",
              "      <td>0</td>\n",
              "      <td>0</td>\n",
              "      <td>0</td>\n",
              "      <td>0</td>\n",
              "      <td>0</td>\n",
              "      <td>0</td>\n",
              "      <td>0</td>\n",
              "      <td>0</td>\n",
              "      <td>0</td>\n",
              "    </tr>\n",
              "  </tbody>\n",
              "</table>\n",
              "<p>101 rows × 10 columns</p>\n",
              "</div>"
            ],
            "text/plain": [
              "        0     1     2     3     4     5     6     7     8     9\n",
              "0    1000  1000  1000  1000  1000  1000  1000  1000  1000  1000\n",
              "1     995   999   999   999   999   998   998   999   997   998\n",
              "2     991   995   995   994   994   993   993   994   989   991\n",
              "3     982   985   985   982   981   978   979   981   969   972\n",
              "4     960   959   959   951   946   941   943   945   918   924\n",
              "5     904   893   895   873   859   850   854   855   796   808\n",
              "6     771   742   748   697   667   653   660   659   550   570\n",
              "7     512   461   473   392   352   337   345   344   217   239\n",
              "8     186   144   156    97    76    71    74    77    25    31\n",
              "9      18    10    13     4     3     2     3     3     0     0\n",
              "10      0     0     0     0     0     0     0     0     0     0\n",
              "11      0     0     0     0     0     0     0     0     0     0\n",
              "12      0     0     0     0     0     0     0     0     0     0\n",
              "13      0     0     0     0     0     0     0     0     0     0\n",
              "14      0     0     0     0     0     0     0     0     0     0\n",
              "15      0     0     0     0     0     0     0     0     0     0\n",
              "16      0     0     0     0     0     0     0     0     0     0\n",
              "17      0     0     0     0     0     0     0     0     0     0\n",
              "18      0     0     0     0     0     0     0     0     0     0\n",
              "19      0     0     0     0     0     0     0     0     0     0\n",
              "20      0     0     0     0     0     0     0     0     0     0\n",
              "21      0     0     0     0     0     0     0     0     0     0\n",
              "22      0     0     0     0     0     0     0     0     0     0\n",
              "23      0     0     0     0     0     0     0     0     0     0\n",
              "24      0     0     0     0     0     0     0     0     0     0\n",
              "25      0     0     0     0     0     0     0     0     0     0\n",
              "26      0     0     0     0     0     0     0     0     0     0\n",
              "27      0     0     0     0     0     0     0     0     0     0\n",
              "28      0     0     0     0     0     0     0     0     0     0\n",
              "29      0     0     0     0     0     0     0     0     0     0\n",
              "..    ...   ...   ...   ...   ...   ...   ...   ...   ...   ...\n",
              "71      0     0     0     0     0     0     0     0     0     0\n",
              "72      0     0     0     0     0     0     0     0     0     0\n",
              "73      0     0     0     0     0     0     0     0     0     0\n",
              "74      0     0     0     0     0     0     0     0     0     0\n",
              "75      0     0     0     0     0     0     0     0     0     0\n",
              "76      0     0     0     0     0     0     0     0     0     0\n",
              "77      0     0     0     0     0     0     0     0     0     0\n",
              "78      0     0     0     0     0     0     0     0     0     0\n",
              "79      0     0     0     0     0     0     0     0     0     0\n",
              "80      0     0     0     0     0     0     0     0     0     0\n",
              "81      0     0     0     0     0     0     0     0     0     0\n",
              "82      0     0     0     0     0     0     0     0     0     0\n",
              "83      0     0     0     0     0     0     0     0     0     0\n",
              "84      0     0     0     0     0     0     0     0     0     0\n",
              "85      0     0     0     0     0     0     0     0     0     0\n",
              "86      0     0     0     0     0     0     0     0     0     0\n",
              "87      0     0     0     0     0     0     0     0     0     0\n",
              "88      0     0     0     0     0     0     0     0     0     0\n",
              "89      0     0     0     0     0     0     0     0     0     0\n",
              "90      0     0     0     0     0     0     0     0     0     0\n",
              "91      0     0     0     0     0     0     0     0     0     0\n",
              "92      0     0     0     0     0     0     0     0     0     0\n",
              "93      0     0     0     0     0     0     0     0     0     0\n",
              "94      0     0     0     0     0     0     0     0     0     0\n",
              "95      0     0     0     0     0     0     0     0     0     0\n",
              "96      0     0     0     0     0     0     0     0     0     0\n",
              "97      0     0     0     0     0     0     0     0     0     0\n",
              "98      0     0     0     0     0     0     0     0     0     0\n",
              "99      0     0     0     0     0     0     0     0     0     0\n",
              "100     0     0     0     0     0     0     0     0     0     0\n",
              "\n",
              "[101 rows x 10 columns]"
            ]
          },
          "metadata": {
            "tags": []
          },
          "execution_count": 5
        }
      ]
    },
    {
      "cell_type": "code",
      "metadata": {
        "id": "jyHLiKjSr80I",
        "colab_type": "code",
        "outputId": "369f53bb-612a-4508-a5e9-b6d9ffa8545f",
        "colab": {
          "resources": {
            "http://localhost:8080/nbextensions/google.colab/files.js": {
              "data": "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",
              "ok": true,
              "headers": [
                [
                  "content-type",
                  "application/javascript"
                ]
              ],
              "status": 200,
              "status_text": ""
            }
          },
          "base_uri": "https://localhost:8080/",
          "height": 54
        }
      },
      "source": [
        "from google.colab import files\n",
        "files.upload()\n",
        "\n"
      ],
      "execution_count": 0,
      "outputs": [
        {
          "output_type": "display_data",
          "data": {
            "text/html": [
              "\n",
              "     <input type=\"file\" id=\"files-0cdd5949-5ccb-4883-b21b-b85295e77ddd\" name=\"files[]\" multiple disabled />\n",
              "     <output id=\"result-0cdd5949-5ccb-4883-b21b-b85295e77ddd\">\n",
              "      Upload widget is only available when the cell has been executed in the\n",
              "      current browser session. Please rerun this cell to enable.\n",
              "      </output>\n",
              "      <script src=\"/nbextensions/google.colab/files.js\"></script> "
            ],
            "text/plain": [
              "<IPython.core.display.HTML object>"
            ]
          },
          "metadata": {
            "tags": []
          }
        },
        {
          "output_type": "execute_result",
          "data": {
            "text/plain": [
              "{}"
            ]
          },
          "metadata": {
            "tags": []
          },
          "execution_count": 1
        }
      ]
    },
    {
      "cell_type": "markdown",
      "metadata": {
        "colab_type": "text",
        "id": "EFYOjZNfzzeB"
      },
      "source": [
        "### Import Data"
      ]
    },
    {
      "cell_type": "code",
      "metadata": {
        "colab_type": "code",
        "id": "H6EwDpKW0JAm",
        "colab": {}
      },
      "source": [
        "\n",
        "#healthy_time_series_2 = pd.read_csv('healthy_time_series.txt', header = None, sep = '\\t')\n",
        "#sick_time_series = pd.read_csv('sick_time_series.txt', header = None, sep = '\\t')"
      ],
      "execution_count": 0,
      "outputs": []
    },
    {
      "cell_type": "code",
      "metadata": {
        "id": "XcLsWvi_PrIV",
        "colab_type": "code",
        "colab": {}
      },
      "source": [
        "# Train Edges\n",
        "# Train Senders\n",
        "# Train Receivers\n",
        "\n",
        "## Assume that you have a bunch of cities that are at most 1000 miles apart each other, and which each have populations between 1 and 10,000,000.\n",
        "graph_dicts = []\n",
        "num_nodes = 10\n",
        "from random import randint\n",
        "num_edges =  num_nodes * num_nodes\n",
        "GLOBAL_SIZE = 2\n",
        "EDGE_SIZE = 100\n",
        "MAX_POPULATION = 10000000\n",
        "MAX_DISTANCE = 1000\n",
        "\n",
        "\n",
        "\n",
        "\n"
      ],
      "execution_count": 0,
      "outputs": []
    },
    {
      "cell_type": "code",
      "metadata": {
        "id": "BaddbXwFVHoM",
        "colab_type": "code",
        "colab": {}
      },
      "source": [
        ""
      ],
      "execution_count": 0,
      "outputs": []
    },
    {
      "cell_type": "code",
      "metadata": {
        "colab_type": "code",
        "id": "cSmyhVG90Ur9",
        "colab": {}
      },
      "source": [
        "\n",
        "# 1)  Assume that there are three Global Variables, and the values for these are randomly determined.\n",
        "\n",
        "# 2) Assume that edge weights are randomly determined once you have the nodes, as are senders and receivers\n",
        "\n",
        "# 3) Assume that we have a graph of nodes at 1000 time steps.\n",
        "\n",
        "# 4) Assume that \n",
        "def get_sick_graph_data_dict(healthy_data, sick_data,num_nodes, num_edges):\n",
        "   \"\"\"Create dictionary for a single graph from node data\"\"\"\n",
        "\n",
        "   return {      \n",
        "  \"globals\": np.random.rand(GLOBAL_SIZE).astype(np.float32),\n",
        "   \"nodes\": np.array([healthy_data, sick_data]).T.astype(np.float32),\n",
        "   #\"edges\": np.random.rand(num_edges, EDGE_SIZE).astype(np.float32),\n",
        "   \"edges\": np.random.uniform(num_edges, EDGE_SIZE).astype(np.float32),\n",
        "   \"senders\": np.random.randint(num_nodes, size=num_edges, dtype=np.int32),\n",
        "   \"receivers\": np.random.randint(num_nodes, size=num_edges, dtype=np.int32),\n",
        "  }\n",
        "\n",
        "# This involes getting data for many different timesteps.\n",
        "\n",
        "# Suppose you have an array with a bunch of Populations\n",
        "# This generates random Distances between the Nodes\n",
        "# Simplest ex\n",
        "def get_edge_weights(populations, distances):\n",
        "  senders = []\n",
        "  receivers = []\n",
        "  edges = []\n",
        "  ctr = 0\n",
        "  # Assume that the edge weight formula is some combination of Population, specific edgeweight\n",
        "  for k in range(len(populations)):\n",
        "    for l in range(k+1, len(populations)):\n",
        "      distance = distances[ctr]\n",
        "      senders.append(k)\n",
        "      receivers.append(l)\n",
        "      population_1 = populations[k]\n",
        "      population_2 = populations[l]\n",
        "      edges.append((population_1 + population_2)/(2 * MAX_POPULATION) * distances[ctr] / MAX_DISTANCE)\n",
        "      ctr = ctr + 1\n",
        "  return senders, receivers, edges\n",
        "# This involves building a graph consisting of Num_Dicts Timesteps\n",
        "def get_train_graph_data_dicts(num_dicts):\n",
        "  # Node 1 Data \n",
        "  return 1\n",
        "   \n",
        "   \n",
        "   \n",
        "    \n",
        "# This involves only getting data for timestep 1 - and predicting the rest. \n",
        "def get_initial_data():\n",
        "  healthy_values = np.random.randint(100, size = num_nodes).astype(np.float32)\n",
        "  populations = np.random.randint(MAX_POPULATION, size = num_nodes).astype(np.float32)\n",
        "  print(EDGE_SIZE)\n",
        "  distances = np.random.randint(MAX_DISTANCE, size = EDGE_SIZE).astype(np.float32)\n",
        "  print(len(distances))\n",
        "  senders, receivers, edges = get_edge_weights(populations, distances)\n",
        "  return healthy_values, populations, senders, receivers, edges\n",
        "\n",
        "  \n",
        "  \n",
        "  \n",
        "  \n"
      ],
      "execution_count": 0,
      "outputs": []
    },
    {
      "cell_type": "code",
      "metadata": {
        "id": "NbA8-b2gYhSE",
        "colab_type": "code",
        "colab": {}
      },
      "source": [
        "def get_test_graph_data_dicts():\n",
        "  return {      \n",
        "  \"globals\": np.random.rand(GLOBAL_SIZE).astype(np.float32),\n",
        "   \"nodes\": np.array([healthy_values, populations]).T.astype(np.float32),\n",
        "   #\"edges\": np.random.rand(num_edges, EDGE_SIZE).astype(np.float32),\n",
        "     \n",
        "   \"edges\":  np.array([edges]).T.astype(np.float32),\n",
        "   \"senders\": senders,\n",
        "   \"receivers\": receivers,\n",
        "  }"
      ],
      "execution_count": 0,
      "outputs": []
    },
    {
      "cell_type": "code",
      "metadata": {
        "id": "-JYtyWiqcuaY",
        "colab_type": "code",
        "colab": {
          "base_uri": "https://localhost:8080/",
          "height": 130
        },
        "outputId": "5baf986a-3c7b-45b0-e36c-91a4585f42c9"
      },
      "source": [
        "len(np.array([edges])"
      ],
      "execution_count": 65,
      "outputs": [
        {
          "output_type": "error",
          "ename": "SyntaxError",
          "evalue": "ignored",
          "traceback": [
            "\u001b[0;36m  File \u001b[0;32m\"<ipython-input-65-e84702cd3d01>\"\u001b[0;36m, line \u001b[0;32m1\u001b[0m\n\u001b[0;31m    len(np.array([edges])\u001b[0m\n\u001b[0m                         ^\u001b[0m\n\u001b[0;31mSyntaxError\u001b[0m\u001b[0;31m:\u001b[0m unexpected EOF while parsing\n"
          ]
        }
      ]
    },
    {
      "cell_type": "code",
      "metadata": {
        "id": "XJpqQJ05UAlU",
        "colab_type": "code",
        "colab": {
          "base_uri": "https://localhost:8080/",
          "height": 139
        },
        "outputId": "974c2796-25d5-417e-cc24-69f94becdfd7"
      },
      "source": [
        " healthy_values, populations, senders, receivers, edges = get_initial_data()\n",
        " print(edges)\n",
        " print(healthy_values)\n",
        " print(senders)\n",
        " print(receivers)"
      ],
      "execution_count": 59,
      "outputs": [
        {
          "output_type": "stream",
          "text": [
            "100\n",
            "100\n",
            "[0.2551211026, 0.5960471573000001, 0.2788181424, 0.3338909873, 0.3620739902, 0.44460521999999997, 0.48716152189999995, 0.19541149605000002, 0.3863547718, 0.6194626306000001, 0.03166004, 0.2815785504, 0.2867198175, 0.5279768658, 0.32822840324999997, 0.64456152165, 0.27337115354999997, 0.3292896816, 0.04022439345, 0.16132843070000003, 0.57199571, 0.1164210684, 0.14111818359999997, 0.06611792305, 0.49906968949999997, 0.1189436172, 0.07314004869999999, 0.011730079899999999, 0.775964777, 0.06180559875, 0.21430254299999998, 0.22427234640000004, 0.2338882995, 0.35454136319999996, 0.05862495699999999, 0.41911707540000004, 0.2252010721, 0.19459928985000002, 0.1207102544, 0.1216407885, 0.27869284694999996, 0.4653633581, 0.2916136974, 0.25082746, 0.3260062156]\n",
            "[50. 36. 46. 59. 52. 48.  5. 48. 28. 37.]\n",
            "[0, 0, 0, 0, 0, 0, 0, 0, 0, 1, 1, 1, 1, 1, 1, 1, 1, 2, 2, 2, 2, 2, 2, 2, 3, 3, 3, 3, 3, 3, 4, 4, 4, 4, 4, 5, 5, 5, 5, 6, 6, 6, 7, 7, 8]\n",
            "[1, 2, 3, 4, 5, 6, 7, 8, 9, 2, 3, 4, 5, 6, 7, 8, 9, 3, 4, 5, 6, 7, 8, 9, 4, 5, 6, 7, 8, 9, 5, 6, 7, 8, 9, 6, 7, 8, 9, 7, 8, 9, 8, 9, 9]\n"
          ],
          "name": "stdout"
        }
      ]
    },
    {
      "cell_type": "code",
      "metadata": {
        "colab_type": "code",
        "id": "bV6xqV5ZN59U",
        "outputId": "b7f130dc-24db-4c25-e597-92e6350cccc1",
        "colab": {
          "base_uri": "https://localhost:8080/",
          "height": 232
        }
      },
      "source": [
        "graph_dicts = []\n",
        "num_nodes = 10\n",
        "from random import randint\n",
        "num_edges = randint(0, num_nodes * num_nodes)\n",
        "GLOBAL_SIZE = 2\n",
        "EDGE_SIZE = 100\n",
        "#healthy_data = []\n",
        "#last_index \n",
        "\n",
        "for k in range(1):\n",
        "    healthy_data =  np.array(healthy_time_series_2.ix[k])\n",
        "    sick_data = np.array(sick_time_series.ix[k])\n",
        "    \n",
        "    graph = get_sick_graph_data_dict(healthy_data, sick_data,num_nodes, num_edges)\n",
        "    \n",
        "    graph_dicts.append(graph)\n"
      ],
      "execution_count": 39,
      "outputs": [
        {
          "output_type": "error",
          "ename": "AttributeError",
          "evalue": "ignored",
          "traceback": [
            "\u001b[0;31m---------------------------------------------------------------------------\u001b[0m",
            "\u001b[0;31mAttributeError\u001b[0m                            Traceback (most recent call last)",
            "\u001b[0;32m<ipython-input-39-90960be340b5>\u001b[0m in \u001b[0;36m<module>\u001b[0;34m()\u001b[0m\n\u001b[1;32m      9\u001b[0m \u001b[0;34m\u001b[0m\u001b[0m\n\u001b[1;32m     10\u001b[0m \u001b[0;32mfor\u001b[0m \u001b[0mk\u001b[0m \u001b[0;32min\u001b[0m \u001b[0mrange\u001b[0m\u001b[0;34m(\u001b[0m\u001b[0;36m11\u001b[0m\u001b[0;34m)\u001b[0m\u001b[0;34m:\u001b[0m\u001b[0;34m\u001b[0m\u001b[0;34m\u001b[0m\u001b[0m\n\u001b[0;32m---> 11\u001b[0;31m     \u001b[0mhealthy_data\u001b[0m \u001b[0;34m=\u001b[0m  \u001b[0mnp\u001b[0m\u001b[0;34m.\u001b[0m\u001b[0marray\u001b[0m\u001b[0;34m(\u001b[0m\u001b[0mhealthy_time_series_2\u001b[0m\u001b[0;34m.\u001b[0m\u001b[0mix\u001b[0m\u001b[0;34m[\u001b[0m\u001b[0mk\u001b[0m\u001b[0;34m]\u001b[0m\u001b[0;34m)\u001b[0m\u001b[0;34m\u001b[0m\u001b[0;34m\u001b[0m\u001b[0m\n\u001b[0m\u001b[1;32m     12\u001b[0m     \u001b[0msick_data\u001b[0m \u001b[0;34m=\u001b[0m \u001b[0mnp\u001b[0m\u001b[0;34m.\u001b[0m\u001b[0marray\u001b[0m\u001b[0;34m(\u001b[0m\u001b[0msick_time_series\u001b[0m\u001b[0;34m.\u001b[0m\u001b[0mix\u001b[0m\u001b[0;34m[\u001b[0m\u001b[0mk\u001b[0m\u001b[0;34m]\u001b[0m\u001b[0;34m)\u001b[0m\u001b[0;34m\u001b[0m\u001b[0;34m\u001b[0m\u001b[0m\n\u001b[1;32m     13\u001b[0m \u001b[0;34m\u001b[0m\u001b[0m\n",
            "\u001b[0;31mAttributeError\u001b[0m: 'str' object has no attribute 'ix'"
          ]
        }
      ]
    },
    {
      "cell_type": "code",
      "metadata": {
        "id": "MRy7X2gtBpaE",
        "colab_type": "code",
        "colab": {}
      },
      "source": [
        "def plot_compare_graphs(graph_dicts):\n",
        "  pos = None\n",
        "  num_graphs = len(graph_dicts)\n",
        "  _, axes = plt.subplots(1, num_graphs, figsize=(11*num_graphs, 11))\n",
        "  if num_graphs == 1:\n",
        "    axes = axes,\n",
        "  pos = None\n",
        "  ctr = 0\n",
        "  for graph_dict, ax in zip(graph_dicts, axes):\n",
        "    graph_tuple =  utils_np.data_dicts_to_graphs_tuple([graph_dict])\n",
        "    graph = utils_np.graphs_tuple_to_networkxs(graph_tuple)[0]\n",
        "    pos = plot_graph_networkx(graph, ax, pos=pos)\n",
        "    ax.set_title(\"Disease Visualization\")\n",
        "    ctr = ctr + 1\n",
        "def plot_graphs_tuple_np(graphs_tuple):\n",
        "  networkx_graphs = utils_np.graphs_tuple_to_networkxs(graphs_tuple)\n",
        "  num_graphs = len(networkx_graphs)\n",
        "  _, axes = plt.subplots(1, num_graphs, figsize=(5*num_graphs, 5))\n",
        "  if num_graphs == 1:\n",
        "    axes = axes,\n",
        "  for graph, ax in zip(networkx_graphs, axes):\n",
        "    plot_graph_networkx(graph, ax)\n",
        "\n",
        "\n",
        "def plot_graph_networkx(graph, ax, pos=None):\n",
        "  node_labels = {node: \"{:.3g}\".format(data[\"features\"][0])\n",
        "                 for node, data in graph.nodes(data=True)\n",
        "                 if data[\"features\"] is not None}\n",
        "  edge_labels = {(sender, receiver): \"{:.3g}\".format(data[\"features\"][0])\n",
        "                 for sender, receiver, data in graph.edges(data=True)\n",
        "                 if data[\"features\"] is not None}\n",
        "  global_label = (\"{:.3g}\".format(graph.graph[\"features\"][0])\n",
        "                  if graph.graph[\"features\"] is not None else None)\n",
        "\n",
        "  if pos is None:\n",
        "    pos = nx.spring_layout(graph)\n",
        "  nx.draw_networkx(graph, pos, ax=ax, labels=node_labels)\n",
        "\n",
        "  if edge_labels:\n",
        "    nx.draw_networkx_edge_labels(graph, pos, edge_labels, ax=ax)\n",
        "\n",
        "  if global_label:\n",
        "    plt.text(0.05, 0.95, global_label, transform=ax.transAxes)\n",
        "\n",
        "  ax.yaxis.set_visible(False)\n",
        "  ax.xaxis.set_visible(False)\n",
        "  return pos"
      ],
      "execution_count": 0,
      "outputs": []
    },
    {
      "cell_type": "markdown",
      "metadata": {
        "id": "Sd9-XELLdcUJ",
        "colab_type": "text"
      },
      "source": [
        ""
      ]
    },
    {
      "cell_type": "code",
      "metadata": {
        "id": "_x-eVMshBwjw",
        "colab_type": "code",
        "outputId": "41ea1cfd-6610-40ab-918b-89643efca6c5",
        "colab": {
          "base_uri": "https://localhost:8080/",
          "height": 645
        }
      },
      "source": [
        "graphdicts1 = []\n",
        "graphdicts1.append(get_test_graph_data_dicts())\n",
        "\n",
        "plot_compare_graphs(graphdicts1)\n"
      ],
      "execution_count": 71,
      "outputs": [
        {
          "output_type": "display_data",
          "data": {
            "image/png": "[encoded data removed]",
            "text/plain": [
              "<Figure size 792x792 with 1 Axes>"
            ]
          },
          "metadata": {
            "tags": []
          }
        }
      ]
    },
    {
      "cell_type": "markdown",
      "metadata": {
        "id": "HpoOtP-cif4g",
        "colab_type": "text"
      },
      "source": [
        "### Loss Function "
      ]
    },
    {
      "cell_type": "code",
      "metadata": {
        "colab_type": "code",
        "id": "zczMFAsBzzd_",
        "colab": {}
      },
      "source": [
        "def create_loss_ops(target_ops, output_ops):\n",
        "  \"\"\"Create supervised loss operations from targets and outputs.\n",
        "  \"\"\"\n",
        "  loss_ops =  tf.reduce_mean(tf.square(tf.subtract(target_ops.nodes,output_ops.nodes)))\n",
        "  return loss_ops"
      ],
      "execution_count": 0,
      "outputs": []
    },
    {
      "cell_type": "markdown",
      "metadata": {
        "id": "EaJEmjojif4j",
        "colab_type": "text"
      },
      "source": [
        "###  Parameters"
      ]
    },
    {
      "cell_type": "markdown",
      "metadata": {
        "colab_type": "text",
        "id": "vsN5WwX2zzeF"
      },
      "source": [
        "#### Set up computational graph"
      ]
    },
    {
      "cell_type": "code",
      "metadata": {
        "colab_type": "code",
        "id": "ZqJmBZKjzzeF",
        "outputId": "2f4960e7-790b-43ec-f48a-5f01acf46213",
        "colab": {
          "base_uri": "https://localhost:8080/",
          "height": 92
        }
      },
      "source": [
        "# Set up output_ops\n",
        "tf.reset_default_graph()\n",
        "\n",
        "OUTPUT_NODE_SIZE = 2 # node features (must be 2)\n",
        "OUTPUT_EDGE_SIZE = 100 # irrelevant operator\n",
        "OUTPUT_GLOBAL_SIZE = 1 # irrelevant operator\n",
        "graph_network = modules.GraphNetwork(\n",
        "    edge_model_fn=lambda: snt.Linear(output_size=OUTPUT_EDGE_SIZE),\n",
        "    node_model_fn=lambda: snt.Linear(output_size=OUTPUT_NODE_SIZE),\n",
        "    global_model_fn=lambda: snt.Linear(output_size=OUTPUT_GLOBAL_SIZE))\n",
        "\n",
        "# pass in batch of training input graphs\n",
        "\n",
        "input_graphs = utils_tf.data_dicts_to_graphs_tuple(graph_dicts[0:-1]) # input batch\n",
        "target_graphs = utils_tf.data_dicts_to_graphs_tuple(graph_dicts[1::]) # prediction batch\n",
        "output_ops_tr = graph_network(input_graphs)\n"
      ],
      "execution_count": 0,
      "outputs": [
        {
          "output_type": "stream",
          "text": [
            "WARNING:tensorflow:From /usr/local/lib/python3.6/dist-packages/tensorflow/python/framework/op_def_library.py:263: colocate_with (from tensorflow.python.framework.ops) is deprecated and will be removed in a future version.\n",
            "Instructions for updating:\n",
            "Colocations handled automatically by placer.\n"
          ],
          "name": "stdout"
        }
      ]
    },
    {
      "cell_type": "code",
      "metadata": {
        "id": "kkRGslnfif4p",
        "colab_type": "code",
        "outputId": "1d250d8c-8f32-44e3-a754-9b3b40968e43",
        "colab": {
          "base_uri": "https://localhost:8080/",
          "height": 35
        }
      },
      "source": [
        "len(graph_dicts[0:-1])"
      ],
      "execution_count": 0,
      "outputs": [
        {
          "output_type": "execute_result",
          "data": {
            "text/plain": [
              "10"
            ]
          },
          "metadata": {
            "tags": []
          },
          "execution_count": 10
        }
      ]
    },
    {
      "cell_type": "code",
      "metadata": {
        "id": "A_Ae7aEaif4s",
        "colab_type": "code",
        "outputId": "1ba51c46-9246-4e03-dbeb-6abb068c7418",
        "colab": {
          "base_uri": "https://localhost:8080/",
          "height": 35
        }
      },
      "source": [
        "len(graph_dicts)"
      ],
      "execution_count": 0,
      "outputs": [
        {
          "output_type": "execute_result",
          "data": {
            "text/plain": [
              "11"
            ]
          },
          "metadata": {
            "tags": []
          },
          "execution_count": 11
        }
      ]
    },
    {
      "cell_type": "code",
      "metadata": {
        "id": "uv7mL8CZif4v",
        "colab_type": "code",
        "outputId": "5c00aadc-22d3-45ce-e774-ed5400fd2907",
        "colab": {
          "base_uri": "https://localhost:8080/",
          "height": 35
        }
      },
      "source": [
        "len(graph_dicts[1::])"
      ],
      "execution_count": 0,
      "outputs": [
        {
          "output_type": "execute_result",
          "data": {
            "text/plain": [
              "10"
            ]
          },
          "metadata": {
            "tags": []
          },
          "execution_count": 12
        }
      ]
    },
    {
      "cell_type": "code",
      "metadata": {
        "id": "tXjZfau4if4y",
        "colab_type": "code",
        "outputId": "e4923194-d03d-48fe-d48f-3b2f4d56516f",
        "colab": {
          "base_uri": "https://localhost:8080/",
          "height": 55
        }
      },
      "source": [
        "input_graphs"
      ],
      "execution_count": 0,
      "outputs": [
        {
          "output_type": "execute_result",
          "data": {
            "text/plain": [
              "GraphsTuple(nodes=<tf.Tensor 'data_dicts_to_graphs_tuple/concat:0' shape=(100, 2) dtype=float32>, edges=<tf.Tensor 'data_dicts_to_graphs_tuple/concat_1:0' shape=(150, 100) dtype=float32>, receivers=<tf.Tensor 'data_dicts_to_graphs_tuple/add:0' shape=(150,) dtype=int32>, senders=<tf.Tensor 'data_dicts_to_graphs_tuple/add_1:0' shape=(150,) dtype=int32>, globals=<tf.Tensor 'data_dicts_to_graphs_tuple/stack:0' shape=(10, 2) dtype=float32>, n_node=<tf.Tensor 'data_dicts_to_graphs_tuple/stack_1:0' shape=(10,) dtype=int32>, n_edge=<tf.Tensor 'data_dicts_to_graphs_tuple/stack_2:0' shape=(10,) dtype=int32>)"
            ]
          },
          "metadata": {
            "tags": []
          },
          "execution_count": 13
        }
      ]
    },
    {
      "cell_type": "code",
      "metadata": {
        "colab_type": "code",
        "id": "0-3e4mibzzeI",
        "outputId": "ea53675c-036a-4c8b-aad3-0f7a7af6a106",
        "colab": {
          "base_uri": "https://localhost:8080/",
          "height": 127
        }
      },
      "source": [
        "for var in graph_network.get_all_variables():\n",
        "  print(var)"
      ],
      "execution_count": 0,
      "outputs": [
        {
          "output_type": "stream",
          "text": [
            "<tf.Variable 'graph_network/edge_block/linear/b:0' shape=(100,) dtype=float32_ref>\n",
            "<tf.Variable 'graph_network/edge_block/linear/w:0' shape=(106, 100) dtype=float32_ref>\n",
            "<tf.Variable 'graph_network/global_block/linear/b:0' shape=(1,) dtype=float32_ref>\n",
            "<tf.Variable 'graph_network/global_block/linear/w:0' shape=(104, 1) dtype=float32_ref>\n",
            "<tf.Variable 'graph_network/node_block/linear/b:0' shape=(2,) dtype=float32_ref>\n",
            "<tf.Variable 'graph_network/node_block/linear/w:0' shape=(104, 2) dtype=float32_ref>\n"
          ],
          "name": "stdout"
        }
      ]
    },
    {
      "cell_type": "code",
      "metadata": {
        "colab_type": "code",
        "id": "eWLE1tNTzzeY",
        "outputId": "001d1da0-6725-4d30-f760-1f97eb73a11d",
        "colab": {
          "base_uri": "https://localhost:8080/",
          "height": 35
        }
      },
      "source": [
        "input_graphs.nodes.shape == output_ops_tr.nodes.shape "
      ],
      "execution_count": 0,
      "outputs": [
        {
          "output_type": "execute_result",
          "data": {
            "text/plain": [
              "True"
            ]
          },
          "metadata": {
            "tags": []
          },
          "execution_count": 15
        }
      ]
    },
    {
      "cell_type": "markdown",
      "metadata": {
        "colab_type": "text",
        "id": "muPlt_74zzeh"
      },
      "source": [
        "### Training"
      ]
    },
    {
      "cell_type": "markdown",
      "metadata": {
        "colab_type": "text",
        "id": "GJjZ2bmOzzei"
      },
      "source": [
        "Now just need to minimize the loss function."
      ]
    },
    {
      "cell_type": "code",
      "metadata": {
        "colab_type": "code",
        "id": "20CXbTt1zzei",
        "colab": {}
      },
      "source": [
        "\n",
        "# loss functions, and try to minimize\n",
        "# how to select a loss function, a target graph, an input graph\n",
        "# how to minimize the loss function over the graph_network parameters\n",
        "# i.e how to do training\n",
        "#target_graphs = utils_tf.data_dicts_to_graphs_tuple(graph_dicts)\n",
        "\n",
        "# Training loss.\n",
        "loss_ops_tr = create_loss_ops(target_graphs, output_ops_tr)\n",
        "# Training loss across processing steps.\n",
        "#oss_op_tr = sum(loss_ops_tr) / num_processing_steps_tr\n"
      ],
      "execution_count": 0,
      "outputs": []
    },
    {
      "cell_type": "code",
      "metadata": {
        "colab_type": "code",
        "id": "kWYwMCWazzel",
        "colab": {}
      },
      "source": [
        "# Optimizer.\n",
        "learning_rate = 1e-3\n",
        "optimizer = tf.train.AdamOptimizer(learning_rate)\n",
        "step_op = optimizer.minimize(loss_ops_tr)\n",
        "#input_graph_tr = make_all_runnable_in_session(input_graph_tr)"
      ],
      "execution_count": 0,
      "outputs": []
    },
    {
      "cell_type": "code",
      "metadata": {
        "colab_type": "code",
        "id": "7NPuabEJzzey",
        "colab": {}
      },
      "source": [
        "try:\n",
        "  sess.close()\n",
        "except NameError:\n",
        "  pass\n",
        "sess = tf.Session()\n",
        "sess.run(tf.global_variables_initializer())\n",
        "n_steps = 10000\n",
        "loss_history = []\n",
        "\n",
        "for i in range(n_steps):\n",
        "    sess.run(step_op)\n",
        "    loss_history.append(sess.run(loss_ops_tr))\n",
        "    #print(\"Step\", i, \" \\t Loss\\t\", sess.run(loss_ops_tr))\n",
        "sess.run(step_op)\n",
        "\n",
        "#with tf.Session() as sess:"
      ],
      "execution_count": 0,
      "outputs": []
    },
    {
      "cell_type": "code",
      "metadata": {
        "id": "1qQ-A-Lhif5J",
        "colab_type": "code",
        "colab": {}
      },
      "source": [
        "loss_history=np.array(loss_history)"
      ],
      "execution_count": 0,
      "outputs": []
    },
    {
      "cell_type": "code",
      "metadata": {
        "id": "6vgg75Uiif5N",
        "colab_type": "code",
        "outputId": "e7734e43-cb16-4d1e-b611-3fe0740d01c5",
        "colab": {
          "base_uri": "https://localhost:8080/",
          "height": 35
        }
      },
      "source": [
        "loss_history[0]"
      ],
      "execution_count": 0,
      "outputs": [
        {
          "output_type": "execute_result",
          "data": {
            "text/plain": [
              "672264900000.0"
            ]
          },
          "metadata": {
            "tags": []
          },
          "execution_count": 20
        }
      ]
    },
    {
      "cell_type": "code",
      "metadata": {
        "id": "hOADPxfVif5Q",
        "colab_type": "code",
        "outputId": "61589d48-ef48-4735-ef14-021dae1449b7",
        "colab": {
          "base_uri": "https://localhost:8080/",
          "height": 35
        }
      },
      "source": [
        "loss_history[-1]"
      ],
      "execution_count": 0,
      "outputs": [
        {
          "output_type": "execute_result",
          "data": {
            "text/plain": [
              "116989.36"
            ]
          },
          "metadata": {
            "tags": []
          },
          "execution_count": 21
        }
      ]
    },
    {
      "cell_type": "code",
      "metadata": {
        "colab_type": "code",
        "id": "xGWaQMiuzze-",
        "outputId": "cb75fcff-8b5a-4586-aedd-ecd392dd036a",
        "colab": {
          "base_uri": "https://localhost:8080/",
          "height": 4535
        }
      },
      "source": [
        "for var in graph_network.get_all_variables():\n",
        "  print(var)\n",
        "  print(sess.run(var))"
      ],
      "execution_count": 0,
      "outputs": [
        {
          "output_type": "stream",
          "text": [
            "<tf.Variable 'graph_network/edge_block/linear/b:0' shape=(100,) dtype=float32_ref>\n",
            "[ 0.00867309  0.0042782  -0.0039425  -0.00142124  0.01043834 -0.00343247\n",
            " -0.01035266 -0.01002817  0.00875631 -0.00363127  0.00442587  0.01036409\n",
            " -0.00379137  0.01021878  0.00551978 -0.0042978  -0.00019597 -0.0002067\n",
            " -0.00745823  0.00873365 -0.00481667  0.00185903 -0.03155223  0.00114452\n",
            " -0.00257798  0.00349632 -0.00328827 -0.01399238 -0.00890145 -0.00395716\n",
            " -0.0057321  -0.00015215  0.0075766  -0.0038589   0.03949931  0.02565314\n",
            "  0.0143097   0.06939901 -0.00959594  0.00501235 -0.00384602  0.00147149\n",
            " -0.00462979 -0.00808238 -0.04068067  0.0083306  -0.00253628  0.00237461\n",
            " -0.00230444 -0.01521421  0.01150238 -0.00061049 -0.01712026  0.00806271\n",
            " -0.00487926 -0.00897562  0.00419123  0.00708021  0.00047635  0.00997437\n",
            " -0.00843622 -0.00327098  0.00143083 -0.00955959  0.00071412 -0.00455421\n",
            "  0.0075956  -0.01006582  0.00726816  0.00301975  0.00420232  0.00162715\n",
            "  0.01025645 -0.00448658 -0.00279842 -0.01637992  0.00213742  0.00781082\n",
            "  0.00516796  0.00719289 -0.00963772  0.01159138  0.01429525  0.01723759\n",
            "  0.01216169  0.01387273  0.00801404  0.00271161  0.00914644 -0.00093147\n",
            "  0.04384572 -0.00943762 -0.00250289  0.00371028  0.04649806 -0.00121386\n",
            " -0.00428909  0.00828571  0.00355684 -0.00807666]\n",
            "<tf.Variable 'graph_network/edge_block/linear/w:0' shape=(106, 100) dtype=float32_ref>\n",
            "[[ 0.25553125  0.3013467   0.27520612 ...  0.10775308  0.04138777\n",
            "  -0.23738264]\n",
            " [-0.06419773 -0.03770698 -0.06002744 ...  0.10817002 -0.00104168\n",
            "  -0.00840518]\n",
            " [-0.06953472  0.00937349 -0.18035127 ...  0.05676402 -0.01162023\n",
            "  -0.0010328 ]\n",
            " ...\n",
            " [ 0.12678118  0.00738246  0.34086993 ...  0.08789486  0.04546126\n",
            "  -0.07195325]\n",
            " [ 0.061701   -0.01848876  0.10528392 ... -0.06495439  0.11518764\n",
            "  -0.03924773]\n",
            " [ 0.04317471  0.22913724  0.04919039 ...  0.19128463  0.21192627\n",
            "  -0.00694468]]\n",
            "<tf.Variable 'graph_network/global_block/linear/b:0' shape=(1,) dtype=float32_ref>\n",
            "[0.]\n",
            "<tf.Variable 'graph_network/global_block/linear/w:0' shape=(104, 1) dtype=float32_ref>\n",
            "[[ 0.14133355]\n",
            " [-0.03024444]\n",
            " [-0.0510141 ]\n",
            " [ 0.08077125]\n",
            " [ 0.14173631]\n",
            " [-0.05250974]\n",
            " [ 0.11466987]\n",
            " [ 0.05432271]\n",
            " [ 0.10815156]\n",
            " [-0.01457959]\n",
            " [ 0.07207917]\n",
            " [ 0.16381352]\n",
            " [-0.00174243]\n",
            " [-0.01493431]\n",
            " [ 0.14291328]\n",
            " [ 0.0890001 ]\n",
            " [-0.110902  ]\n",
            " [ 0.03980007]\n",
            " [ 0.06975812]\n",
            " [-0.05299782]\n",
            " [ 0.01786224]\n",
            " [ 0.03943157]\n",
            " [ 0.03216214]\n",
            " [ 0.18026946]\n",
            " [-0.04491942]\n",
            " [-0.03803166]\n",
            " [-0.11646476]\n",
            " [ 0.06037985]\n",
            " [ 0.09652828]\n",
            " [ 0.0476617 ]\n",
            " [-0.03789648]\n",
            " [-0.00462338]\n",
            " [ 0.12071594]\n",
            " [ 0.05517628]\n",
            " [ 0.06385988]\n",
            " [-0.06168197]\n",
            " [ 0.16407314]\n",
            " [-0.04607373]\n",
            " [ 0.05368083]\n",
            " [-0.01656127]\n",
            " [-0.04577887]\n",
            " [ 0.10037789]\n",
            " [-0.10272292]\n",
            " [ 0.00156647]\n",
            " [ 0.02880393]\n",
            " [-0.0962728 ]\n",
            " [ 0.12120909]\n",
            " [ 0.0743116 ]\n",
            " [-0.13378024]\n",
            " [ 0.16062757]\n",
            " [ 0.0887597 ]\n",
            " [-0.0266041 ]\n",
            " [-0.06530573]\n",
            " [ 0.03085644]\n",
            " [ 0.1499345 ]\n",
            " [-0.01621068]\n",
            " [ 0.00560463]\n",
            " [ 0.0853517 ]\n",
            " [-0.07159318]\n",
            " [-0.14567173]\n",
            " [ 0.0479496 ]\n",
            " [ 0.04816492]\n",
            " [ 0.07058778]\n",
            " [-0.00881177]\n",
            " [ 0.04652832]\n",
            " [ 0.04350908]\n",
            " [ 0.01726452]\n",
            " [-0.11419838]\n",
            " [ 0.01002133]\n",
            " [ 0.03173325]\n",
            " [ 0.08556709]\n",
            " [-0.13814268]\n",
            " [ 0.10326217]\n",
            " [-0.06124169]\n",
            " [-0.11788918]\n",
            " [-0.04846751]\n",
            " [ 0.00756376]\n",
            " [ 0.02244702]\n",
            " [-0.0152861 ]\n",
            " [ 0.04636388]\n",
            " [-0.08768099]\n",
            " [-0.07106689]\n",
            " [ 0.01424385]\n",
            " [ 0.13152896]\n",
            " [ 0.0862057 ]\n",
            " [ 0.12717967]\n",
            " [ 0.04180029]\n",
            " [-0.02032001]\n",
            " [ 0.13389869]\n",
            " [-0.02787484]\n",
            " [-0.03740145]\n",
            " [-0.01927797]\n",
            " [ 0.01821414]\n",
            " [-0.03294287]\n",
            " [-0.11109821]\n",
            " [-0.03491917]\n",
            " [ 0.07282624]\n",
            " [ 0.03435925]\n",
            " [-0.11298537]\n",
            " [ 0.10190817]\n",
            " [-0.18770051]\n",
            " [ 0.03477054]\n",
            " [-0.04484068]\n",
            " [-0.18369395]]\n",
            "<tf.Variable 'graph_network/node_block/linear/b:0' shape=(2,) dtype=float32_ref>\n",
            "[ 1.0080837  -0.03515825]\n",
            "<tf.Variable 'graph_network/node_block/linear/w:0' shape=(104, 2) dtype=float32_ref>\n",
            "[[ 9.70180333e-02 -1.71862207e-02]\n",
            " [ 1.15907788e-01 -1.37912212e-02]\n",
            " [ 1.78013034e-02  2.05143332e-03]\n",
            " [-3.45766172e-02  1.33132622e-01]\n",
            " [ 4.42788750e-02  9.12169516e-02]\n",
            " [-7.47575015e-02 -3.53259519e-02]\n",
            " [-6.75108358e-02  3.44722345e-02]\n",
            " [-6.12771995e-02 -3.18779168e-03]\n",
            " [-1.12528726e-02  4.57941368e-03]\n",
            " [-8.09067562e-02 -3.94048095e-02]\n",
            " [ 1.37038067e-01 -9.08017810e-03]\n",
            " [ 5.69924004e-02 -1.75179839e-02]\n",
            " [-4.39757891e-02 -2.33746078e-02]\n",
            " [ 6.13892674e-02 -4.61880900e-02]\n",
            " [ 1.55652732e-01  4.62079607e-03]\n",
            " [-6.43480271e-02 -4.24435409e-03]\n",
            " [ 2.35906616e-02 -3.34097669e-02]\n",
            " [-2.94951331e-02  8.93095974e-03]\n",
            " [-1.51087835e-01 -1.81769460e-01]\n",
            " [ 8.20836350e-02  4.82688136e-02]\n",
            " [-1.62786946e-01 -7.58808181e-02]\n",
            " [ 3.14946920e-02  5.46891205e-02]\n",
            " [-1.79004332e-03 -5.66634275e-02]\n",
            " [ 3.68457325e-02  2.39781160e-02]\n",
            " [ 1.80114061e-02 -5.83237335e-02]\n",
            " [ 7.91312754e-02 -1.11325078e-01]\n",
            " [-5.25164083e-02 -7.01969936e-02]\n",
            " [-2.75346730e-02 -1.67178679e-02]\n",
            " [-7.05416277e-02  1.34063855e-01]\n",
            " [-9.92887542e-02  1.71667319e-02]\n",
            " [ 1.61844604e-02 -6.78366609e-03]\n",
            " [-1.89591050e-02 -7.67554492e-02]\n",
            " [ 7.29016960e-02 -6.49950951e-02]\n",
            " [-7.52929151e-02  2.68151592e-02]\n",
            " [-1.86268855e-02  1.27251863e-01]\n",
            " [-3.83431613e-02 -1.15308985e-01]\n",
            " [ 2.44293064e-02 -5.10887839e-02]\n",
            " [-1.05882339e-01 -1.52774248e-02]\n",
            " [-7.86620080e-02  4.55216430e-02]\n",
            " [ 1.34660363e-01 -5.78228049e-02]\n",
            " [-9.25216451e-02  9.01135355e-02]\n",
            " [ 3.69889550e-02  4.35572583e-03]\n",
            " [-2.84405909e-02 -3.54623385e-02]\n",
            " [-1.14182964e-01  7.58358762e-02]\n",
            " [ 2.39628018e-03  2.78817732e-02]\n",
            " [ 5.83448596e-02  9.08721518e-03]\n",
            " [-6.02670461e-02  2.13268250e-02]\n",
            " [ 4.12136279e-02 -6.53464869e-02]\n",
            " [ 2.17414238e-02 -2.94515770e-03]\n",
            " [ 6.21181028e-03  2.04507560e-02]\n",
            " [ 3.42949480e-02  1.30509153e-01]\n",
            " [ 2.27455776e-02  7.79704228e-02]\n",
            " [ 6.42603403e-03 -1.03479978e-02]\n",
            " [ 1.48400620e-01 -1.40627660e-02]\n",
            " [-1.08920537e-01 -3.46081108e-02]\n",
            " [-7.45428428e-02 -1.69772968e-01]\n",
            " [ 3.62161221e-03  4.25163805e-02]\n",
            " [ 5.15857376e-02 -5.03948564e-03]\n",
            " [ 2.81154886e-02  9.40114111e-02]\n",
            " [ 6.74975663e-02  2.46032383e-02]\n",
            " [-8.87477994e-02  1.18874989e-01]\n",
            " [-6.93813264e-02 -6.87647015e-02]\n",
            " [ 3.23686302e-02  7.84417093e-02]\n",
            " [-6.29847944e-02  2.95345839e-02]\n",
            " [ 1.20304516e-02 -1.47722453e-01]\n",
            " [-1.21711917e-01 -1.76152080e-01]\n",
            " [ 1.51491031e-01  4.10440005e-02]\n",
            " [-5.66408299e-02  7.76050314e-02]\n",
            " [ 1.81002751e-01  1.32523835e-01]\n",
            " [ 7.29902908e-02 -2.77188364e-02]\n",
            " [ 1.03116952e-01  9.27731395e-02]\n",
            " [ 2.91121546e-02  5.90932034e-02]\n",
            " [ 5.69986142e-02 -1.56678222e-02]\n",
            " [-1.26388714e-01 -4.76127006e-02]\n",
            " [-3.42866704e-02 -5.82730286e-02]\n",
            " [-1.79776046e-02  5.36675006e-02]\n",
            " [-2.40483135e-02  2.08576932e-03]\n",
            " [ 1.37789875e-01  4.85859700e-02]\n",
            " [ 8.49866197e-02 -1.63214915e-02]\n",
            " [-1.10415388e-02  1.47995472e-01]\n",
            " [-8.35524052e-02  3.15663330e-02]\n",
            " [ 3.17940153e-02 -1.56263709e-01]\n",
            " [ 2.25805361e-02  4.94528525e-02]\n",
            " [ 1.51483119e-02 -7.81285763e-02]\n",
            " [ 2.96988338e-02  9.03868973e-02]\n",
            " [ 2.27649119e-02 -1.02558777e-01]\n",
            " [ 1.11264057e-01  1.73651263e-01]\n",
            " [ 5.96438609e-02  1.42248673e-02]\n",
            " [ 7.52949342e-02  4.41396348e-02]\n",
            " [-2.58859284e-02  1.88590676e-01]\n",
            " [-1.29935062e-02  5.52253351e-02]\n",
            " [-7.11927861e-02  3.95826623e-02]\n",
            " [-5.18264845e-02  7.58938417e-02]\n",
            " [ 7.72538260e-02  3.77125107e-02]\n",
            " [-1.86028015e-02  2.28437912e-02]\n",
            " [ 2.31355298e-02 -5.26178144e-02]\n",
            " [-8.33733827e-02 -7.69707048e-03]\n",
            " [ 1.02628253e-01  1.40046179e-01]\n",
            " [ 2.94209085e-02  1.82540730e-01]\n",
            " [-7.32447281e-02 -5.03753312e-02]\n",
            " [ 9.99590456e-01  2.56011554e-05]\n",
            " [ 4.48417962e-01  2.17554903e+00]\n",
            " [ 1.16344428e+00 -6.88249692e-02]\n",
            " [ 9.75943744e-01  1.44972682e-01]]\n"
          ],
          "name": "stdout"
        }
      ]
    },
    {
      "cell_type": "code",
      "metadata": {
        "colab_type": "code",
        "id": "Qxce-ol5zzfG",
        "colab": {}
      },
      "source": [
        ""
      ],
      "execution_count": 0,
      "outputs": []
    },
    {
      "cell_type": "code",
      "metadata": {
        "id": "mIKH7x8Fif5Z",
        "colab_type": "code",
        "colab": {}
      },
      "source": [
        ""
      ],
      "execution_count": 0,
      "outputs": []
    }
  ]
}